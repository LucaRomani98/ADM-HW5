{
 "cells": [
  {
   "cell_type": "code",
   "execution_count": 1,
   "id": "e296cc91-e0e4-4dcc-a13e-847ab48f5be0",
   "metadata": {},
   "outputs": [],
   "source": [
    "import networkx as nx\n",
    "import matplotlib.pyplot as plt\n",
    "import pandas as pd\n",
    "import numpy as np\n",
    "from datetime import datetime\n",
    "import time"
   ]
  },
  {
   "cell_type": "code",
   "execution_count": 2,
   "id": "326d12a9-11f5-4c12-9de1-b6293a2dda02",
   "metadata": {},
   "outputs": [],
   "source": [
    "with open('sx-stackoverflow-a2q.txt','r') as f:\n",
    "    lines = f.readlines()"
   ]
  },
  {
   "cell_type": "code",
   "execution_count": 3,
   "id": "d18f155a-a7e7-4953-bb09-1f9430bf525b",
   "metadata": {},
   "outputs": [],
   "source": [
    "def dateparse(time_in_secs):\n",
    "    return pd.to_datetime(time_in_secs, unit = 's')"
   ]
  },
  {
   "cell_type": "code",
   "execution_count": 4,
   "id": "7eba7f84-c10e-4d5c-984d-50d12a3e8073",
   "metadata": {},
   "outputs": [],
   "source": [
    "data = pd.read_csv('sx-stackoverflow-a2q.txt', delimiter=' ', header=None)"
   ]
  },
  {
   "cell_type": "code",
   "execution_count": 5,
   "id": "f942340b-dd77-4502-8452-b1e034279969",
   "metadata": {},
   "outputs": [],
   "source": [
    "data.columns = ['Source', 'Destination', 'Time']"
   ]
  },
  {
   "cell_type": "code",
   "execution_count": 24,
   "id": "b31e9e08-18ae-44da-bd5b-becf26dc58f0",
   "metadata": {},
   "outputs": [
    {
     "data": {
      "text/html": [
       "<div>\n",
       "<style scoped>\n",
       "    .dataframe tbody tr th:only-of-type {\n",
       "        vertical-align: middle;\n",
       "    }\n",
       "\n",
       "    .dataframe tbody tr th {\n",
       "        vertical-align: top;\n",
       "    }\n",
       "\n",
       "    .dataframe thead th {\n",
       "        text-align: right;\n",
       "    }\n",
       "</style>\n",
       "<table border=\"1\" class=\"dataframe\">\n",
       "  <thead>\n",
       "    <tr style=\"text-align: right;\">\n",
       "      <th></th>\n",
       "      <th>Source</th>\n",
       "      <th>Destination</th>\n",
       "      <th>Time</th>\n",
       "    </tr>\n",
       "  </thead>\n",
       "  <tbody>\n",
       "    <tr>\n",
       "      <th>0</th>\n",
       "      <td>9</td>\n",
       "      <td>8</td>\n",
       "      <td>1217567877</td>\n",
       "    </tr>\n",
       "    <tr>\n",
       "      <th>1</th>\n",
       "      <td>1</td>\n",
       "      <td>1</td>\n",
       "      <td>1217573801</td>\n",
       "    </tr>\n",
       "    <tr>\n",
       "      <th>2</th>\n",
       "      <td>13</td>\n",
       "      <td>1</td>\n",
       "      <td>1217606247</td>\n",
       "    </tr>\n",
       "    <tr>\n",
       "      <th>3</th>\n",
       "      <td>17</td>\n",
       "      <td>1</td>\n",
       "      <td>1217617639</td>\n",
       "    </tr>\n",
       "    <tr>\n",
       "      <th>4</th>\n",
       "      <td>48</td>\n",
       "      <td>2</td>\n",
       "      <td>1217618182</td>\n",
       "    </tr>\n",
       "    <tr>\n",
       "      <th>...</th>\n",
       "      <td>...</td>\n",
       "      <td>...</td>\n",
       "      <td>...</td>\n",
       "    </tr>\n",
       "    <tr>\n",
       "      <th>17823520</th>\n",
       "      <td>2773607</td>\n",
       "      <td>1048138</td>\n",
       "      <td>1457266581</td>\n",
       "    </tr>\n",
       "    <tr>\n",
       "      <th>17823521</th>\n",
       "      <td>6018278</td>\n",
       "      <td>1982354</td>\n",
       "      <td>1457266589</td>\n",
       "    </tr>\n",
       "    <tr>\n",
       "      <th>17823522</th>\n",
       "      <td>3187183</td>\n",
       "      <td>1404306</td>\n",
       "      <td>1457266650</td>\n",
       "    </tr>\n",
       "    <tr>\n",
       "      <th>17823523</th>\n",
       "      <td>6022341</td>\n",
       "      <td>1667278</td>\n",
       "      <td>1457266660</td>\n",
       "    </tr>\n",
       "    <tr>\n",
       "      <th>17823524</th>\n",
       "      <td>6018304</td>\n",
       "      <td>6024256</td>\n",
       "      <td>1457266693</td>\n",
       "    </tr>\n",
       "  </tbody>\n",
       "</table>\n",
       "<p>17823525 rows × 3 columns</p>\n",
       "</div>"
      ],
      "text/plain": [
       "           Source  Destination        Time\n",
       "0               9            8  1217567877\n",
       "1               1            1  1217573801\n",
       "2              13            1  1217606247\n",
       "3              17            1  1217617639\n",
       "4              48            2  1217618182\n",
       "...           ...          ...         ...\n",
       "17823520  2773607      1048138  1457266581\n",
       "17823521  6018278      1982354  1457266589\n",
       "17823522  3187183      1404306  1457266650\n",
       "17823523  6022341      1667278  1457266660\n",
       "17823524  6018304      6024256  1457266693\n",
       "\n",
       "[17823525 rows x 3 columns]"
      ]
     },
     "execution_count": 24,
     "metadata": {},
     "output_type": "execute_result"
    }
   ],
   "source": [
    "data"
   ]
  },
  {
   "cell_type": "code",
   "execution_count": 6,
   "id": "1beedaf5-f1a1-4c9b-bc7a-4d431db3654a",
   "metadata": {},
   "outputs": [],
   "source": [
    "g1 = pd.read_csv('sx-stackoverflow-a2q.txt', delimiter=' ', header=None)\n",
    "g2 = pd.read_csv('sx-stackoverflow-c2a.txt', delimiter=' ', header=None)\n",
    "g3 = pd.read_csv('sx-stackoverflow-c2q.txt', delimiter=' ', header=None)"
   ]
  },
  {
   "cell_type": "code",
   "execution_count": 26,
   "id": "d6388e08-fb90-4e50-8a43-45009ca6086a",
   "metadata": {},
   "outputs": [],
   "source": [
    "df1 = pd.DataFrame(g1)\n",
    "df2 = pd.DataFrame(g2)\n",
    "df3 = pd.DataFrame(g3)"
   ]
  },
  {
   "cell_type": "code",
   "execution_count": 24,
   "id": "0fe1d5af-75a8-4275-b3cd-ad756cebf4fd",
   "metadata": {},
   "outputs": [
    {
     "ename": "SyntaxError",
     "evalue": "invalid syntax (<ipython-input-24-978294b2661d>, line 2)",
     "output_type": "error",
     "traceback": [
      "\u001b[1;36m  File \u001b[1;32m\"<ipython-input-24-978294b2661d>\"\u001b[1;36m, line \u001b[1;32m2\u001b[0m\n\u001b[1;33m    df1.drop([20001:,], axis = 0)\u001b[0m\n\u001b[1;37m                   ^\u001b[0m\n\u001b[1;31mSyntaxError\u001b[0m\u001b[1;31m:\u001b[0m invalid syntax\n"
     ]
    }
   ],
   "source": [
    "df1.shape\n",
    "df1.drop([20001,], axis = 0)"
   ]
  },
  {
   "cell_type": "code",
   "execution_count": 25,
   "id": "802debe2-8f6d-448f-a446-18782abbdee9",
   "metadata": {},
   "outputs": [],
   "source": [
    "df1.columns = ['SourceAns', 'DestinationAns', 'TimeAns']\n",
    "df2.columns = ['SourceCommA', 'DestinationCommA', 'Time']\n",
    "df3.columns = ['SourceCommQ', 'DestinationCommQ', 'TimeCommQ']"
   ]
  },
  {
   "cell_type": "code",
   "execution_count": null,
   "id": "12f93ce2-f1cb-49f1-a1c4-6c3998472e95",
   "metadata": {},
   "outputs": [],
   "source": [
    "df = df3.merge(df1, how='left').merge(df2, how='left')\n",
    "print (df)"
   ]
  },
  {
   "cell_type": "markdown",
   "id": "ab713683-76a8-4a33-8f31-ee073de0a604",
   "metadata": {},
   "source": [
    "# 4. Algorithmic question"
   ]
  },
  {
   "cell_type": "code",
   "execution_count": 28,
   "id": "b4019051-f704-4421-be36-5141271be75b",
   "metadata": {},
   "outputs": [
    {
     "name": "stdout",
     "output_type": "stream",
     "text": [
      "{'D'} {'B'}\n",
      "1\n"
     ]
    }
   ],
   "source": [
    "# Here I create a Dictionary in order to define the nodes and their neighbours.\n",
    "\n",
    "n_kids = { \"A\" : [\"B\", \"C\"],\n",
    "          \"B\" : [\"D\", \"E\", \"A\"],\n",
    "          \"C\" : [\"A\"],\n",
    "          \"D\" : [\"B\", \"E\"],\n",
    "          \"E\" : [\"B\", \"D\"]\n",
    "}\n",
    "\n",
    "# Here I create a Function in order to define the edges between the nodes.\n",
    "\n",
    "def quarrel(n_kids):\n",
    "    \n",
    "    # Initialize empty list of edges\n",
    "    quarrel = [] \n",
    "    \n",
    "    # Initialize empty list for the first dormitory\n",
    "    s1 = []\n",
    "    \n",
    "    # Initialize empty list for the second dormitory\n",
    "    s2 = []\n",
    "    \n",
    "    for node in n_kids:\n",
    "        for neighbour in n_kids[node]:\n",
    "            if (neighbour, node) not in quarrel:\n",
    "                quarrel.append((node, neighbour))\n",
    "            if (neighbour, node) in quarrel:\n",
    "                s1.append(node)\n",
    "                s2.append(neighbour)\n",
    "                \n",
    "                # Even if I can take more than once a kid, I just want to know where he goes\n",
    "                s1 = set(s1) \n",
    "                s2 = set(s2)\n",
    "                \n",
    "                # Just for taking a look at the output\n",
    "                print(s1,s2)\n",
    "                \n",
    "                return 1\n",
    "            else:\n",
    "                break\n",
    "\n",
    "print(quarrel(n_kids))"
   ]
  }
 ],
 "metadata": {
  "kernelspec": {
   "display_name": "Python 3",
   "language": "python",
   "name": "python3"
  },
  "language_info": {
   "codemirror_mode": {
    "name": "ipython",
    "version": 3
   },
   "file_extension": ".py",
   "mimetype": "text/x-python",
   "name": "python",
   "nbconvert_exporter": "python",
   "pygments_lexer": "ipython3",
   "version": "3.8.8"
  }
 },
 "nbformat": 4,
 "nbformat_minor": 5
}
