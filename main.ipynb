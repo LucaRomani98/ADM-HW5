{
 "cells": [
  {
   "cell_type": "code",
   "execution_count": 1,
   "id": "a63a3915",
   "metadata": {},
   "outputs": [],
   "source": [
    "import networkx as nx\n",
    "import matplotlib.pyplot as plt\n",
    "import pandas as pd\n",
    "import numpy as np\n",
    "from datetime import datetime as dt\n",
    "import time\n",
    "from tqdm import tqdm\n",
    "from collections import Counter "
   ]
  },
  {
   "cell_type": "markdown",
   "id": "7237145e",
   "metadata": {},
   "source": [
    "## Loading The Data\n"
   ]
  },
  {
   "cell_type": "code",
   "execution_count": 2,
   "id": "31a6a0c3",
   "metadata": {},
   "outputs": [],
   "source": [
    "def prepare_datasets():\n",
    "    \n",
    "    data_a2q = pd.read_csv('sx-stackoverflow-a2q.txt', delimiter = ' ', names=['Source','Target','Time'])\n",
    "    data_c2a = pd.read_csv('sx-stackoverflow-c2a.txt', delimiter = ' ', names=['Source','Target','Time'])\n",
    "    data_c2q = pd.read_csv('sx-stackoverflow-c2q.txt', delimiter = ' ', names=['Source','Target','Time'])\n",
    "    \n",
    "    data_a2q['Time']=pd.to_datetime(data_a2q['Time'], unit='s').dt.date\n",
    "    data_c2a['Time']=pd.to_datetime(data_c2a['Time'], unit='s').dt.date\n",
    "    data_c2q['Time']=pd.to_datetime(data_c2q['Time'], unit='s').dt.date\n",
    "     \n",
    "    data_a2q = data_a2q[data_a2q['Source'] != data_a2q['Target']]\n",
    "    data_c2a = data_c2a[data_c2a['Source'] != data_c2a['Target']]\n",
    "    data_c2q = data_c2q[data_c2q['Source'] != data_c2q['Target']]\n",
    "    \n",
    "    data_a2q['Year'] = pd.DatetimeIndex(data_a2q['Time']).year\n",
    "    data_c2a['Year'] = pd.DatetimeIndex(data_c2a['Time']).year\n",
    "    data_c2q['Year'] = pd.DatetimeIndex(data_c2q['Time']).year\n",
    "    \n",
    "    ipt1 = (data_a2q['Year'] >= 2013) & (data_a2q['Year'] <= 2016)\n",
    "    data_a2q = data_a2q.loc[ipt1]\n",
    "    ipt2 = (data_c2a['Year'] >= 2013) & (data_c2a['Year'] <= 2016)\n",
    "    data_c2a = data_c2a.loc[ipt2]\n",
    "    ipt3 = (data_c2q['Year'] >= 2013) & (data_c2q['Year'] <= 2016)\n",
    "    data_c2q = data_c2q.loc[ipt3]\n",
    "    \n",
    "    return data_a2q, data_c2a, data_c2q    "
   ]
  },
  {
   "cell_type": "code",
   "execution_count": 3,
   "id": "8eae66e3",
   "metadata": {},
   "outputs": [],
   "source": [
    "data_a2q, data_c2a, data_c2q = prepare_datasets()"
   ]
  },
  {
   "cell_type": "code",
   "execution_count": 4,
   "id": "493c8bcb-042d-4586-9960-88b02641be37",
   "metadata": {},
   "outputs": [
    {
     "data": {
      "text/html": [
       "<div>\n",
       "<style scoped>\n",
       "    .dataframe tbody tr th:only-of-type {\n",
       "        vertical-align: middle;\n",
       "    }\n",
       "\n",
       "    .dataframe tbody tr th {\n",
       "        vertical-align: top;\n",
       "    }\n",
       "\n",
       "    .dataframe thead th {\n",
       "        text-align: right;\n",
       "    }\n",
       "</style>\n",
       "<table border=\"1\" class=\"dataframe\">\n",
       "  <thead>\n",
       "    <tr style=\"text-align: right;\">\n",
       "      <th></th>\n",
       "      <th>Source</th>\n",
       "      <th>Target</th>\n",
       "      <th>Time</th>\n",
       "      <th>Year</th>\n",
       "    </tr>\n",
       "  </thead>\n",
       "  <tbody>\n",
       "    <tr>\n",
       "      <th>7563262</th>\n",
       "      <td>941240</td>\n",
       "      <td>584508</td>\n",
       "      <td>2013-01-01</td>\n",
       "      <td>2013</td>\n",
       "    </tr>\n",
       "    <tr>\n",
       "      <th>7563263</th>\n",
       "      <td>16007</td>\n",
       "      <td>1176091</td>\n",
       "      <td>2013-01-01</td>\n",
       "      <td>2013</td>\n",
       "    </tr>\n",
       "    <tr>\n",
       "      <th>7563265</th>\n",
       "      <td>1867379</td>\n",
       "      <td>1896848</td>\n",
       "      <td>2013-01-01</td>\n",
       "      <td>2013</td>\n",
       "    </tr>\n",
       "    <tr>\n",
       "      <th>7563266</th>\n",
       "      <td>1935971</td>\n",
       "      <td>1109988</td>\n",
       "      <td>2013-01-01</td>\n",
       "      <td>2013</td>\n",
       "    </tr>\n",
       "    <tr>\n",
       "      <th>7563267</th>\n",
       "      <td>1245254</td>\n",
       "      <td>1939771</td>\n",
       "      <td>2013-01-01</td>\n",
       "      <td>2013</td>\n",
       "    </tr>\n",
       "  </tbody>\n",
       "</table>\n",
       "</div>"
      ],
      "text/plain": [
       "          Source   Target        Time  Year\n",
       "7563262   941240   584508  2013-01-01  2013\n",
       "7563263    16007  1176091  2013-01-01  2013\n",
       "7563265  1867379  1896848  2013-01-01  2013\n",
       "7563266  1935971  1109988  2013-01-01  2013\n",
       "7563267  1245254  1939771  2013-01-01  2013"
      ]
     },
     "execution_count": 4,
     "metadata": {},
     "output_type": "execute_result"
    }
   ],
   "source": [
    "data_a2q.head()"
   ]
  },
  {
   "cell_type": "code",
   "execution_count": 5,
   "id": "33210330",
   "metadata": {},
   "outputs": [],
   "source": [
    "time_interval = [dt.strptime('1-1-1970', \"%d-%m-%Y\").date(),dt.strptime('31-12-2022', \"%d-%m-%Y\").date()]"
   ]
  },
  {
   "cell_type": "code",
   "execution_count": 6,
   "id": "8b2e69f7",
   "metadata": {},
   "outputs": [],
   "source": [
    "def create_graph(dataset, weight, time_interval):\n",
    "    \n",
    "    source = dataset['Source'].values\n",
    "    target = dataset['Target'].values\n",
    "    time = dataset['Time'].values\n",
    "    \n",
    "    start = time_interval[0]\n",
    "    end = time_interval[1]\n",
    "    G = nx.DiGraph()    \n",
    "    \n",
    "    for i in tqdm(range(len(source))):\n",
    "        if start <= time[i] <= end:\n",
    "            if source[i] != target[i]: #check if edge is not self referencing\n",
    "                if (source[i], target[i]) in G.edges():\n",
    "                    G[source[i]][ target[i]]['weight'] += weight\n",
    "                else:\n",
    "                    G.add_edge(source[i],target[i], weight = weight)   \n",
    "    return G  "
   ]
  },
  {
   "cell_type": "code",
   "execution_count": 7,
   "id": "40913af0",
   "metadata": {},
   "outputs": [],
   "source": [
    "def merge_graph(time_interval):   \n",
    "    \n",
    "    G_a2q = create_graph(data_a2q, weight = 2, time_interval = time_interval)\n",
    "    G_c2a = create_graph(data_c2a, weight = 1, time_interval = time_interval)\n",
    "    G_c2q = create_graph(data_c2q, weight = 1, time_interval = time_interval)    \n",
    "    \n",
    "    #create a copy of first graph\n",
    "    G = G_a2q.copy()\n",
    "    \n",
    "    #add edges of second graph\n",
    "    for edge in G_c2a.edges:\n",
    "        if (edge[0], edge[1]) in G.edges():\n",
    "            G[edge[0]][edge[1]]['weight'] +=1\n",
    "        else:\n",
    "            G.add_edge(edge[0],edge[1], weight = 1)\n",
    "            \n",
    "    #add edges of third graph\n",
    "    for edge in G_c2a.edges:\n",
    "        if (edge[0], edge[1]) in G.edges():\n",
    "            G[edge[0]][edge[1]]['weight'] +=1\n",
    "        else:\n",
    "            G.add_edge(edge[0],edge[1], weight = 1)\n",
    "        \n",
    "    return G\n",
    "    "
   ]
  },
  {
   "cell_type": "code",
   "execution_count": null,
   "id": "203cf1d1",
   "metadata": {},
   "outputs": [
    {
     "name": "stderr",
     "output_type": "stream",
     "text": [
      "100%|██████████████████████████████████████████████████████████████████████| 9520434/9520434 [26:10<00:00, 6061.44it/s]\n",
      "100%|████████████████████████████████████████████████████████████████████| 10494445/10494445 [31:33<00:00, 5543.39it/s]\n",
      " 15%|██████████▍                                                          | 1504126/9885202 [00:18<01:32, 90881.24it/s]"
     ]
    }
   ],
   "source": [
    "G_a2q = create_graph(data_a2q, weight = 2, time_interval = time_interval)\n",
    "G_c2a = create_graph(data_c2a, weight = 1, time_interval = time_interval)\n",
    "G_c2q = create_graph(data_c2q, weight = 1, time_interval = time_interval)"
   ]
  },
  {
   "cell_type": "code",
   "execution_count": null,
   "id": "e8511989",
   "metadata": {},
   "outputs": [],
   "source": [
    "nx.write_gexf(G_a2q,'a2q_graph.gexf')"
   ]
  },
  {
   "cell_type": "code",
   "execution_count": null,
   "id": "fcd3bd67",
   "metadata": {},
   "outputs": [],
   "source": []
  },
  {
   "cell_type": "markdown",
   "id": "0a210e41",
   "metadata": {},
   "source": [
    "## Functionality 1"
   ]
  },
  {
   "cell_type": "code",
   "execution_count": null,
   "id": "20d7e995-05d3-4da9-9121-dad0119d2133",
   "metadata": {},
   "outputs": [],
   "source": [
    "# Whether the graph is directed or not\n",
    "def graph_info(graph):\n",
    "    \n",
    "    # 1. Whether the graph is directed or not\n",
    "    \n",
    "    # I assume that the graph is undirected so I initialize my variable as False.\n",
    "    d = False\n",
    "    \n",
    "    # Now I take all the edges.\n",
    "    ed = [couple for couple in graph.edges()]\n",
    "    \n",
    "    # For each couple \n",
    "    for edge in ed:\n",
    "        \n",
    "        # If it exists a correspondece from A to B but not from B to A, the graph is directed.\n",
    "        # So if there's not an reversed relatioship between the nodes, the graph must be directed \n",
    "        # and the loop can break.\n",
    "        if (edge[1], edge[0] not in ed):\n",
    "            d = True\n",
    "            break\n",
    "            \n",
    "    # I print the output based on the previous results.       \n",
    "    if d == True:\n",
    "        print('The graph is directed')\n",
    "    else:\n",
    "        print('The graph is undirected')\n",
    "        \n",
    "    # 2. Number of users\n",
    "    \n",
    "    # I initialize an empty set in order to insert into it the nodes\n",
    "    UserSet = ()\n",
    "    \n",
    "    # For each element in the graph, if that element is not in the set, add it.\n",
    "    for i in tqdm(range(len(source))):\n",
    "        if (source[i] not in UserSet):\n",
    "            UserSet.append(source[i])\n",
    "        if (target[i] not in UserSet):\n",
    "            UserSet.append(target[i])\n",
    "    \n",
    "    # The set is made by all the unique values\n",
    "    # so I can know the number of users finding how many elements are into UserSet\n",
    "    print('The number of users is: ', len(UserSet))\n",
    "    \n",
    "    # 3. Average number of links per user\n",
    "    \n",
    "    # I initialize an empty string in order to insert into it the nodes (users)\n",
    "    LinkUser = []\n",
    "    \n",
    "    # I consider the edges\n",
    "    ed = [n for n in graph.edges()]\n",
    "    edges_dictionaire = defaultdict(int)\n",
    "    \n",
    "    for i in ed:\n",
    "        user = ed[0]\n",
    "        edges_dictionaire[user] += 1\n",
    "    \n",
    "    for edge in edges_dictionaire.values():\n",
    "        LinkUser.append(edge)\n",
    "    \n",
    "    print(f'The average number of links per user is {np.mean(LinkUser)}')\n",
    "    \n",
    "    # 4. Density degree of the graph\n",
    "    \n",
    "    if d == 'undirected':\n",
    "        g_density = 2*graph.nodes.count()/(len(UserSet)*(len(UserSet)-1))\n",
    "        print(g_density)\n",
    "    if d == 'directed':\n",
    "        g_density = graph.nodes.count()/(len(UserSet)*(len(UserSet)-1))\n",
    "        print(g_density)\n",
    "    \n",
    "   # 5. Whether the graph is sparse or dense\n",
    "      # Dense graph is a graph in which the number of edges is close to the maximal number of edges. \n",
    "      # Sparse graph is a graph in which the number of edges is close to the minimal number of edges.\n",
    "    max_edges = (len(UserSet)*len(UserSet-1))/2\n",
    "    if graph.edges.count() == max_edges:\n",
    "        print('The graph is dense')\n",
    "    if graph.edges.count() in range(0:100): # 100 ??\n",
    "        print('The graph is sparse')"
   ]
  },
  {
   "cell_type": "markdown",
   "id": "d1b4e75c-92c6-4610-9f3f-af28eee2f172",
   "metadata": {},
   "source": [
    "### Functionality 2 - Find the best users!"
   ]
  },
  {
   "cell_type": "code",
   "execution_count": null,
   "id": "cc52a46e-abb9-4049-94c8-6e7859da5940",
   "metadata": {},
   "outputs": [],
   "source": [
    "def Betweeness\n",
    "\n",
    "\n",
    "def best_users(user, time_int, metric)"
   ]
  },
  {
   "cell_type": "markdown",
   "id": "8d0ffc62",
   "metadata": {},
   "source": [
    "### Functionality 3"
   ]
  },
  {
   "cell_type": "code",
   "execution_count": null,
   "id": "d4a2625c",
   "metadata": {},
   "outputs": [],
   "source": []
  },
  {
   "cell_type": "code",
   "execution_count": null,
   "id": "58d7e6b4",
   "metadata": {},
   "outputs": [],
   "source": []
  }
 ],
 "metadata": {
  "kernelspec": {
   "display_name": "Python 3",
   "language": "python",
   "name": "python3"
  },
  "language_info": {
   "codemirror_mode": {
    "name": "ipython",
    "version": 3
   },
   "file_extension": ".py",
   "mimetype": "text/x-python",
   "name": "python",
   "nbconvert_exporter": "python",
   "pygments_lexer": "ipython3",
   "version": "3.8.8"
  }
 },
 "nbformat": 4,
 "nbformat_minor": 5
}
