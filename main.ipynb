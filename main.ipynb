{
 "cells": [
  {
   "cell_type": "markdown",
   "id": "13c67362",
   "metadata": {},
   "source": [
    "### Loading the libraries"
   ]
  },
  {
   "cell_type": "code",
   "execution_count": 1,
   "id": "a6661d91",
   "metadata": {},
   "outputs": [],
   "source": [
    "import networkx as nx\n",
    "import matplotlib.pyplot as plt\n",
    "import pandas as pd\n",
    "import numpy as np\n",
    "from datetime import datetime as dt\n",
    "import time\n",
    "from tqdm import tqdm\n",
    "import math"
   ]
  },
  {
   "cell_type": "markdown",
   "id": "21b28c8a",
   "metadata": {},
   "source": [
    "# Introduction\n",
    "\n",
    "In this homework we had to work with graphs, more specifically with the graph generated from all the interaction on the website [StackOverflow](https://stackoverflow.com/). First of all we downloaded the dataset from [here](https://snap.stanford.edu/data/sx-stackoverflow.html). The dataset contains three different *txt files*, every file containing a list of three informations: source ID, target ID and Unix Timestamp of the interactions. The first file contains all the info about answers to question, the second one containt comment to answers and the third one contains comment to questions. We decided to discard the entries where the source and the target nodes where the same to remove useless self-referencing edges and load the rest of the info into a Pandas dataset and keep them stored there.\n",
    "\n",
    "Note: at the bottom of the dataset you can find all the function we used."
   ]
  },
  {
   "cell_type": "code",
   "execution_count": 5,
   "id": "bdfd6bb1",
   "metadata": {},
   "outputs": [],
   "source": [
    "data_a2q, data_c2a, data_c2q = prepare_datasets()"
   ]
  },
  {
   "cell_type": "markdown",
   "id": "156d0249",
   "metadata": {},
   "source": [
    "These are the info contained in the dataset:"
   ]
  },
  {
   "cell_type": "code",
   "execution_count": 16,
   "id": "d3cb56d2",
   "metadata": {},
   "outputs": [
    {
     "data": {
      "text/html": [
       "<div>\n",
       "<style scoped>\n",
       "    .dataframe tbody tr th:only-of-type {\n",
       "        vertical-align: middle;\n",
       "    }\n",
       "\n",
       "    .dataframe tbody tr th {\n",
       "        vertical-align: top;\n",
       "    }\n",
       "\n",
       "    .dataframe thead th {\n",
       "        text-align: right;\n",
       "    }\n",
       "</style>\n",
       "<table border=\"1\" class=\"dataframe\">\n",
       "  <thead>\n",
       "    <tr style=\"text-align: right;\">\n",
       "      <th></th>\n",
       "      <th>Source</th>\n",
       "      <th>Target</th>\n",
       "      <th>Time</th>\n",
       "    </tr>\n",
       "  </thead>\n",
       "  <tbody>\n",
       "    <tr>\n",
       "      <th>0</th>\n",
       "      <td>9</td>\n",
       "      <td>8</td>\n",
       "      <td>2008-08-01</td>\n",
       "    </tr>\n",
       "    <tr>\n",
       "      <th>2</th>\n",
       "      <td>13</td>\n",
       "      <td>1</td>\n",
       "      <td>2008-08-01</td>\n",
       "    </tr>\n",
       "    <tr>\n",
       "      <th>3</th>\n",
       "      <td>17</td>\n",
       "      <td>1</td>\n",
       "      <td>2008-08-01</td>\n",
       "    </tr>\n",
       "    <tr>\n",
       "      <th>4</th>\n",
       "      <td>48</td>\n",
       "      <td>2</td>\n",
       "      <td>2008-08-01</td>\n",
       "    </tr>\n",
       "    <tr>\n",
       "      <th>5</th>\n",
       "      <td>17</td>\n",
       "      <td>1</td>\n",
       "      <td>2008-08-01</td>\n",
       "    </tr>\n",
       "  </tbody>\n",
       "</table>\n",
       "</div>"
      ],
      "text/plain": [
       "   Source  Target        Time\n",
       "0       9       8  2008-08-01\n",
       "2      13       1  2008-08-01\n",
       "3      17       1  2008-08-01\n",
       "4      48       2  2008-08-01\n",
       "5      17       1  2008-08-01"
      ]
     },
     "execution_count": 16,
     "metadata": {},
     "output_type": "execute_result"
    }
   ],
   "source": [
    "data_a2q.head()"
   ]
  },
  {
   "cell_type": "markdown",
   "id": "ce8d2390",
   "metadata": {},
   "source": [
    "The other two datasets contains similar info.\n",
    "To create the graph from the Pandas dataset we decided to use the Python Library **NetworkX**. We decided to create a Weighted graph to keep in consideration the amount and the type of interactions two users have. Since we considered the weight as a distance between two users we decided to lower the weight for every interaction according to the type of interaction. This is the way we chose to define it:\n",
    "\n",
    "$W(u,v) = \\frac{1}{2n_{a2q} + n_{c2q} + n_{c2a}}$\n",
    "\n",
    "Where: $n_{a2q}$ is the number of answer to questions; $n_{c2q}$ is the number of comment to questions; $n_{c2a}$ is the number of comment to answers. In this way we consider the anwer to questions as the most important and give the other two categories the same importance.\n"
   ]
  },
  {
   "cell_type": "markdown",
   "id": "e5754981",
   "metadata": {},
   "source": [
    "# Visualization 1\n",
    "### Visualize the overall features of the graph\n",
    "Use this function to see the overall features of the graph."
   ]
  },
  {
   "cell_type": "code",
   "execution_count": 74,
   "id": "f9bf12ec",
   "metadata": {},
   "outputs": [
    {
     "name": "stdout",
     "output_type": "stream",
     "text": [
      "Select the dataset you want to have some information about:\n",
      "1. Answers to questions \n",
      "2. Comments to answers \n",
      "3. Comments to questions \n",
      "\n",
      "2\n"
     ]
    },
    {
     "name": "stderr",
     "output_type": "stream",
     "text": [
      "  0%|▏                                                                    | 45213/17535031 [00:00<01:17, 226895.65it/s]"
     ]
    },
    {
     "name": "stdout",
     "output_type": "stream",
     "text": [
      "Please wait...\n"
     ]
    },
    {
     "name": "stderr",
     "output_type": "stream",
     "text": [
      "100%|██████████████████████████████████████████████████████████████████| 17535031/17535031 [01:38<00:00, 177582.80it/s]\n"
     ]
    },
    {
     "name": "stdout",
     "output_type": "stream",
     "text": [
      "The graph is directed\n",
      "The number of users is:  1639761\n",
      "The number of total interactions is: 10952124\n",
      "The average number of links per user is 6.679097746561847\n",
      "The graph density is:  1.3670483912234307e-08\n",
      "The graph is sparse\n"
     ]
    },
    {
     "data": {
      "image/png": "[encoded data removed]",
      "text/plain": [
       "<Figure size 432x288 with 1 Axes>"
      ]
     },
     "metadata": {
      "needs_background": "light"
     },
     "output_type": "display_data"
    }
   ],
   "source": [
    "visualization1(data_a2q, data_c2a, data_c2q)"
   ]
  },
  {
   "cell_type": "markdown",
   "id": "b40d67e3",
   "metadata": {},
   "source": [
    "# Visualization 2\n",
    "\n",
    "### Visualize the Best User\n",
    "\n",
    "Use this function to check the importance, according to a metric, of a user of the graph restricted to a given time interval."
   ]
  },
  {
   "cell_type": "code",
   "execution_count": 75,
   "id": "afe90ae8",
   "metadata": {},
   "outputs": [
    {
     "name": "stdout",
     "output_type": "stream",
     "text": [
      "Input the beginning of the time interval you want the graph to be restricted to (format: dd-mm-yyyy): \n",
      "15-1-2010\n",
      "Input the end of the time interval you want the graph to be restricted to (format: dd-mm-yyyy): \n",
      "17-1-2010\n",
      "Choose one between the following metrics: \n",
      "1. Betweeness\n",
      "2. PageRank\n",
      "3. ClosenessCentrality\n",
      "4. DegreeCentrality\n",
      "4\n",
      "Choose the user you want to apply the metric on: 20862\n"
     ]
    },
    {
     "name": "stderr",
     "output_type": "stream",
     "text": [
      "  4%|██▎                                                                | 590405/16703594 [00:00<00:05, 2989463.11it/s]"
     ]
    },
    {
     "name": "stdout",
     "output_type": "stream",
     "text": [
      "Loading the graph...\n"
     ]
    },
    {
     "name": "stderr",
     "output_type": "stream",
     "text": [
      "100%|█████████████████████████████████████████████████████████████████| 16703594/16703594 [00:05<00:00, 3114669.72it/s]\n",
      "100%|█████████████████████████████████████████████████████████████████| 17535031/17535031 [00:05<00:00, 3113117.46it/s]\n",
      "100%|█████████████████████████████████████████████████████████████████| 13664641/13664641 [00:04<00:00, 3091533.18it/s]\n"
     ]
    },
    {
     "name": "stdout",
     "output_type": "stream",
     "text": [
      "The degree centrality for the given node is: 0.018008612814824482\n"
     ]
    }
   ],
   "source": [
    "visualization2()"
   ]
  },
  {
   "cell_type": "code",
   "execution_count": 76,
   "id": "8104d307",
   "metadata": {},
   "outputs": [
    {
     "name": "stdout",
     "output_type": "stream",
     "text": [
      "Input the beginning of the time interval you want the graph to be restricted to (format: dd-mm-yyyy): \n",
      "15-1-2010\n",
      "Input the end of the time interval you want the graph to be restricted to (format: dd-mm-yyyy): \n",
      "17-1-2010\n",
      "Choose one between the following metrics: \n",
      "1. Betweeness\n",
      "2. PageRank\n",
      "3. ClosenessCentrality\n",
      "4. DegreeCentrality\n",
      "2\n",
      "Choose the user you want to apply the metric on: 20862\n"
     ]
    },
    {
     "name": "stderr",
     "output_type": "stream",
     "text": [
      "  4%|██▎                                                                | 589274/16703594 [00:00<00:05, 2983857.54it/s]"
     ]
    },
    {
     "name": "stdout",
     "output_type": "stream",
     "text": [
      "Loading the graph...\n"
     ]
    },
    {
     "name": "stderr",
     "output_type": "stream",
     "text": [
      "100%|█████████████████████████████████████████████████████████████████| 16703594/16703594 [00:05<00:00, 3097612.68it/s]\n",
      "100%|█████████████████████████████████████████████████████████████████| 17535031/17535031 [00:05<00:00, 3143563.59it/s]\n",
      "100%|█████████████████████████████████████████████████████████████████| 13664641/13664641 [00:04<00:00, 3117047.05it/s]\n"
     ]
    },
    {
     "name": "stdout",
     "output_type": "stream",
     "text": [
      "The page rank for the given node is: 0.002793078708743579\n"
     ]
    }
   ],
   "source": [
    "visualization2()"
   ]
  },
  {
   "cell_type": "code",
   "execution_count": 89,
   "id": "123ab5a1",
   "metadata": {},
   "outputs": [
    {
     "name": "stdout",
     "output_type": "stream",
     "text": [
      "Input the beginning of the time interval you want the graph to be restricted to (format: dd-mm-yyyy): \n",
      "15-8-2010\n",
      "Input the end of the time interval you want the graph to be restricted to (format: dd-mm-yyyy): \n",
      "15-8-2010\n",
      "Choose one between the following metrics: \n",
      "1. Betweeness\n",
      "2. PageRank\n",
      "3. ClosenessCentrality\n",
      "4. DegreeCentrality\n",
      "3\n",
      "Choose the user you want to apply the metric on: 345383\n"
     ]
    },
    {
     "name": "stderr",
     "output_type": "stream",
     "text": [
      "  4%|██▎                                                                | 591417/16703594 [00:00<00:05, 2996131.84it/s]"
     ]
    },
    {
     "name": "stdout",
     "output_type": "stream",
     "text": [
      "Loading the graph...\n"
     ]
    },
    {
     "name": "stderr",
     "output_type": "stream",
     "text": [
      "100%|█████████████████████████████████████████████████████████████████| 16703594/16703594 [00:05<00:00, 3130727.73it/s]\n",
      "100%|█████████████████████████████████████████████████████████████████| 17535031/17535031 [00:05<00:00, 3157728.88it/s]\n",
      "100%|█████████████████████████████████████████████████████████████████| 13664641/13664641 [00:04<00:00, 3107724.47it/s]\n",
      "100%|██████████████████████████████████████████████████████████████████████████████| 2855/2855 [20:50<00:00,  2.28it/s]"
     ]
    },
    {
     "name": "stdout",
     "output_type": "stream",
     "text": [
      "The closeness centrality for the given node is: 0.8537241998205205\n"
     ]
    },
    {
     "name": "stderr",
     "output_type": "stream",
     "text": [
      "\n"
     ]
    }
   ],
   "source": [
    "visualization2()"
   ]
  },
  {
   "cell_type": "markdown",
   "id": "4aa8aa74",
   "metadata": {},
   "source": [
    "# Visualization 3\n",
    "### Visualize the Shortest Ordered Route\n",
    "Use this function to see the shortest ordered route passing for some given nodes in a merged graph restricted to a given time interval."
   ]
  },
  {
   "cell_type": "code",
   "execution_count": 72,
   "id": "b5d78742",
   "metadata": {},
   "outputs": [
    {
     "name": "stdout",
     "output_type": "stream",
     "text": [
      "Input the beginning of the time interval you want the graph to be restricted to (format: dd-mm-yyyy): \n",
      "15-1-2010\n",
      "Input the end of the time interval you want the graph to be restricted to (format: dd-mm-yyyy): \n",
      "16-1-2010\n",
      "Input all the nodes in sequence (note: the nodes are integers, input anything else to stop adding nodes)\n",
      "Insert the first node: 54197\n",
      "Insert the next node: 48465\n",
      "Insert the next node: 234499\n",
      "Insert the next node: end\n"
     ]
    },
    {
     "name": "stderr",
     "output_type": "stream",
     "text": [
      "  4%|██▍                                                                | 595299/16703594 [00:00<00:05, 3017717.43it/s]"
     ]
    },
    {
     "name": "stdout",
     "output_type": "stream",
     "text": [
      "Calculating the shortest ordered route: \n",
      "Loading the graph...\n"
     ]
    },
    {
     "name": "stderr",
     "output_type": "stream",
     "text": [
      "100%|█████████████████████████████████████████████████████████████████| 16703594/16703594 [00:05<00:00, 3121949.98it/s]\n",
      "100%|█████████████████████████████████████████████████████████████████| 17535031/17535031 [00:05<00:00, 3107321.33it/s]\n",
      "100%|█████████████████████████████████████████████████████████████████| 13664641/13664641 [00:04<00:00, 3091390.27it/s]\n"
     ]
    },
    {
     "name": "stdout",
     "output_type": "stream",
     "text": [
      "The shortest path passing in all given nodes is [54197, 63627, 97614, 48465, 84206, 234499] with a distance of 2.5\n"
     ]
    }
   ],
   "source": [
    "visualization3()"
   ]
  },
  {
   "cell_type": "markdown",
   "id": "a4f92c03",
   "metadata": {},
   "source": [
    "# Visualization 4\n",
    "\n",
    "### Visualize disconnecting graphs\n",
    "\n",
    "Use this function to see how many links are required to disconnect two given users."
   ]
  },
  {
   "cell_type": "code",
   "execution_count": 79,
   "id": "c6b74583",
   "metadata": {},
   "outputs": [
    {
     "name": "stdout",
     "output_type": "stream",
     "text": [
      "Input the beginning of the time interval you want the graph to be restricted to (format: dd-mm-yyyy): \n",
      "15-1-2010\n",
      "Input the end of the time interval you want the graph to be restricted to (format: dd-mm-yyyy): \n",
      "17-1-2010\n",
      "Enter the nodes that you want to disconnect: \n",
      "Enter the first node: 234499\n",
      "Enter the second node: 54197\n"
     ]
    },
    {
     "name": "stderr",
     "output_type": "stream",
     "text": [
      "100%|█████████████████████████████████████████████████████████████████| 16703594/16703594 [00:05<00:00, 3130819.65it/s]\n",
      "100%|█████████████████████████████████████████████████████████████████| 17535031/17535031 [00:05<00:00, 3135125.36it/s]\n",
      "100%|█████████████████████████████████████████████████████████████████| 13664641/13664641 [00:04<00:00, 3103830.52it/s]\n"
     ]
    },
    {
     "name": "stdout",
     "output_type": "stream",
     "text": [
      "To disconnect the two nodes we needed 3 cuts.\n",
      "These were the edges of the graph that were cut: [[[234499, 242182], [234499, 206328]], [[54197, 63627]]]\n"
     ]
    }
   ],
   "source": [
    "visualization4()"
   ]
  },
  {
   "cell_type": "markdown",
   "id": "59786bb1",
   "metadata": {},
   "source": [
    "### Backend Functionality\n",
    "\n",
    "In this section we put all the function we used for the visualization part, to give a better explanation of some choices and making the code more visible\n",
    "\n",
    "#### Dataset Preparing\n",
    "\n",
    "The first three function are designed to extract the information from the *txt files* into 3 different Pandas dataframe and create a graph from them. As mentioned before we decided to drop all the lines where we had the same Source and Target so all self-referencing edges. The function **create_graph** create graphs from a single Pandas dataframe while **merge_graph** merge the 3 different graphs. Both take as input a time interval to filter the dataframe and construct the graph only with the nodes corresponding to it.\n"
   ]
  },
  {
   "cell_type": "code",
   "execution_count": 6,
   "id": "50db1132",
   "metadata": {},
   "outputs": [],
   "source": [
    "def prepare_datasets():\n",
    "    \n",
    "    data_a2q = pd.read_csv('data/sx-stackoverflow-a2q.txt', delimiter = ' ', names=['Source','Target','Time'])\n",
    "    data_c2a = pd.read_csv('data/sx-stackoverflow-c2a.txt', delimiter = ' ', names=['Source','Target','Time'])\n",
    "    data_c2q = pd.read_csv('data/sx-stackoverflow-c2q.txt', delimiter = ' ', names=['Source','Target','Time'])\n",
    "    \n",
    "    data_a2q['Time']=pd.to_datetime(data_a2q['Time'], unit='s').dt.date\n",
    "    data_c2a['Time']=pd.to_datetime(data_c2a['Time'], unit='s').dt.date\n",
    "    data_c2q['Time']=pd.to_datetime(data_c2q['Time'], unit='s').dt.date\n",
    "     \n",
    "    data_a2q = data_a2q[data_a2q['Source'] != data_a2q['Target']]\n",
    "    data_c2a = data_c2a[data_c2a['Source'] != data_c2a['Target']]\n",
    "    data_c2q = data_c2q[data_c2q['Source'] != data_c2q['Target']]\n",
    "    \n",
    "    \n",
    "    return data_a2q, data_c2a, data_c2q"
   ]
  },
  {
   "cell_type": "code",
   "execution_count": 7,
   "id": "10899670",
   "metadata": {},
   "outputs": [],
   "source": [
    "def create_graph(dataset,weight, time_interval = [dt.strptime('1-1-2000', \"%d-%m-%Y\").date(),dt.strptime('31-1-2021', \"%d-%m-%Y\").date()]):\n",
    "    \n",
    "    source = dataset['Source'].values\n",
    "    target = dataset['Target'].values\n",
    "    time = dataset['Time'].values\n",
    "    \n",
    "    start = time_interval[0]\n",
    "    end = time_interval[1]\n",
    "    G = nx.DiGraph()    \n",
    "    \n",
    "    for i in tqdm(range(len(source))):\n",
    "        if start <= time[i] <= end:\n",
    "            if source[i] != target[i]:#check if edge is not self referencing\n",
    "                if (source[i], target[i]) in G.edges():\n",
    "                    G[source[i]][ target[i]]['weight'] += weight\n",
    "                else:\n",
    "                    G.add_edge(source[i],target[i], weight = weight)\n",
    "    \n",
    "    for edge in G.edges():\n",
    "        G[edge[0]][edge[1]]['weight'] = 1 / G[edge[0]][edge[1]]['weight']\n",
    "        \n",
    "    return G"
   ]
  },
  {
   "cell_type": "code",
   "execution_count": 8,
   "id": "c2139209",
   "metadata": {},
   "outputs": [],
   "source": [
    "def merge_graph(time_interval = [dt.strptime('1-1-2000', \"%d-%m-%Y\").date(),dt.strptime('31-1-2021', \"%d-%m-%Y\").date()]):   \n",
    "    \n",
    "    G_a2q = create_graph(data_a2q, weight = 2, time_interval = time_interval)\n",
    "    G_c2a = create_graph(data_c2a, weight = 1, time_interval = time_interval)\n",
    "    G_c2q = create_graph(data_c2q, weight = 1, time_interval = time_interval)    \n",
    "    \n",
    "    #create a copy of first graph\n",
    "    G = G_a2q.copy()\n",
    "    \n",
    "    for edge in G.edges():\n",
    "        G[edge[0]][edge[1]]['weight'] = 1 / G[edge[0]][edge[1]]['weight']\n",
    "    \n",
    "    #add edges of second graph\n",
    "    for edge in G_c2a.edges:\n",
    "        if (edge[0], edge[1]) in G.edges():\n",
    "            G[edge[0]][edge[1]]['weight'] +=1\n",
    "        else:\n",
    "            G.add_edge(edge[0],edge[1], weight = 1)\n",
    "            \n",
    "    #add edges of third graph\n",
    "    for edge in G_c2a.edges:\n",
    "        if (edge[0], edge[1]) in G.edges():\n",
    "            G[edge[0]][edge[1]]['weight'] +=1\n",
    "        else:\n",
    "            G.add_edge(edge[0],edge[1], weight = 1)\n",
    "            \n",
    "    for edge in G.edges():\n",
    "        G[edge[0]][edge[1]]['weight'] = 1 / G[edge[0]][edge[1]]['weight']\n",
    "        \n",
    "    return G"
   ]
  },
  {
   "cell_type": "markdown",
   "id": "41a3488d",
   "metadata": {},
   "source": [
    "##### Functionality 1\n",
    "\n",
    "We used a single function to get the basic informations of a graph. First we check if it is directed, and to do this we check, for any edge in the graph, there is his opposite version too. If there is at least one edge where this doesn't hold than we can conclude that the graph is directed. Then for the number of users and number of answers/comments we simply count the number of nodes and edges respectively, and calculate their ratio to check the average number of links per user. For the density degree of the graph we simply check if the graph is directed or not and use the appropiate formula. In particular we have that:\n",
    "$D=\\frac{2|E|}{|V|(|V|-1)}$ if the graph is undirected;      $D=\\frac{|E|}{|V|(|V|-1)}$ if the graph is directed.\n",
    "Here |E| and |V| represent the number of edges and vertices in the graph. \n",
    "Lastly we decided to plot an histogram of the destribution of the degree of the nodes of the graph."
   ]
  },
  {
   "cell_type": "code",
   "execution_count": 73,
   "id": "1bd42a67",
   "metadata": {},
   "outputs": [],
   "source": [
    "def graphInfo(graph):\n",
    "    \n",
    "    # 1. Whether the graph is directed or not\n",
    "    \n",
    "    # I assume that the graph is undirected so I initialize my variable as False.\n",
    "    d = False\n",
    "    # For each couple \n",
    "    for couple in graph.edges():\n",
    "        if (couple[1],couple[0]) not in graph.edges():\n",
    "            d = True\n",
    "            break\n",
    "            \n",
    "    # I print the output based on the previous results.       \n",
    "    if d == True:\n",
    "        print('The graph is directed')\n",
    "    else:\n",
    "        print('The graph is undirected')\n",
    "        \n",
    "    # 2. Number of users\n",
    "\n",
    "    \n",
    "    print('The number of users is: ', len(graph.nodes))\n",
    "    \n",
    "    # Number of interactions\n",
    "    \n",
    "    print(f\"The number of total interactions is: {len(graph.edges())}\")\n",
    "    \n",
    "    # 3. Average number of links per user\n",
    "    \n",
    "    # I initialize an empty string in order to insert into it the nodes (users)\n",
    "\n",
    "    \n",
    "    print(f'The average number of links per user is {len(graph.edges())/len(graph.nodes)}')\n",
    "    \n",
    "    # 4. Density degree of the graph\n",
    "    \n",
    "    if d == False:\n",
    "        g_density = 2*len(graph.nodes)/(len(graph.edges())*(len(graph.edges())-1))\n",
    "        print(f\"The graph density is: \", g_density)\n",
    "    if d == True:\n",
    "        g_density = len(graph.nodes)/(len(graph.edges())*(len(graph.edges())-1))\n",
    "        print(f\"The graph density is: \", g_density)\n",
    "    \n",
    "   # 5. Whether the graph is sparse or dense\n",
    "      # Dense graph is a graph in which the number of edges is close to the maximal number of edges. \n",
    "      # Sparse graph is a graph in which the number of edges is close to the minimal number of edges.\n",
    "    max_edges = len(graph.edges())*len(graph.edges())/2\n",
    "    \n",
    "    is_sparse = g_density <= 0.5\n",
    "    \n",
    "    if is_sparse:\n",
    "        print(\"The graph is sparse\")\n",
    "    else:\n",
    "        print(\"The graph is dense\")\n",
    "    \n",
    "    \n",
    "    # Plot of the distribution of the node's degree of the graph\n",
    "    \n",
    "    degrees = []\n",
    "    for node in graph.nodes:\n",
    "        degrees.append(len([n for n in graph[node]]))\n",
    "    plt.hist(degrees, bins = range(0,40,1), density = True)\n",
    "    plt.title('Distribution of the degree of the nodes')\n",
    "    plt.xlabel('Degree of the node')\n",
    "    plt.ylabel('Frequency of the degree')"
   ]
  },
  {
   "cell_type": "markdown",
   "id": "ceb95eb9",
   "metadata": {},
   "source": [
    "##### Functionality 2\n",
    "For each metric we defined a single function and the gathered them together in the **applyMetric** which select which one to use. To define the **Degree Centrality** we simply use the formula $DC(V)=\\frac{d_{V}}{|V|-1}$ where $d_{V}$ is the degree of the node, so the number of edges adjacent to it. For the **Closeness Centrality** we calculate every shortest path connecting the node to every other node using the **Dijkstra's Algorithm** and use the formula $C(x) = \\sum_{y\\neq x} \\frac {|V|}{d(x,y)}$.\n",
    "For the **Page Rank** algorithm we used as a reference [this website](https://www.geeksforgeeks.org/page-rank-algorithm-implementation/).\n"
   ]
  },
  {
   "cell_type": "code",
   "execution_count": 10,
   "id": "d0eeb6f1",
   "metadata": {},
   "outputs": [],
   "source": [
    "def applyMetric(time_interval, metric, starting_user):\n",
    "    print(\"Loading the graph...\")\n",
    "    G = merge_graph(time_interval)\n",
    "    if int(metric) == 1:\n",
    "        print(f\"The betweeness centrality for the given node is: {betweenessCentrality(G, starting_user)}\")\n",
    "    elif int(metric) == 2:\n",
    "        print(f\"The page rank for the given node is: {pageRank(G)[starting_user]}\")\n",
    "    elif int(metric) == 3:\n",
    "        print(f\"The closeness centrality for the given node is: {closenessCentrality(G, starting_user)}\")\n",
    "    elif int(metric) == 4:\n",
    "        print(f\"The degree centrality for the given node is: {degreeCentrality(G, starting_user)}\")"
   ]
  },
  {
   "cell_type": "code",
   "execution_count": 11,
   "id": "b02500b5",
   "metadata": {},
   "outputs": [],
   "source": [
    "def degreeCentrality(G, user):\n",
    "    node_degree = 0\n",
    "    for edge in G.edges():\n",
    "        if edge[0] == user or edge[1] == user:\n",
    "            node_degree += 1\n",
    "    return node_degree / (len(G)-1)"
   ]
  },
  {
   "cell_type": "code",
   "execution_count": 12,
   "id": "7abf2847",
   "metadata": {},
   "outputs": [],
   "source": [
    "def closenessCentrality(G,user):\n",
    "    result = 0\n",
    "    for node in tqdm(G.nodes):\n",
    "        distance, path = dijkstraAlgo(G, user, node)\n",
    "        if distance!='Not possible':\n",
    "            result += distance\n",
    "    if result != 0:\n",
    "        return (len(G)-1)/result\n",
    "    return(\"The given node isn't connected to anything\")"
   ]
  },
  {
   "cell_type": "code",
   "execution_count": 13,
   "id": "c2f89c24",
   "metadata": {},
   "outputs": [],
   "source": [
    "#https://www.geeksforgeeks.org/page-rank-algorithm-implementation/\n",
    "def pageRank(G, alpha=0.85, personalization=None,\n",
    "             max_iter=100, tol=1.0e-6, nstart=None, weight='weight',\n",
    "             dangling=None):\n",
    " \n",
    "    # Create a copy in (right) stochastic form\n",
    "    D=G\n",
    "    W = nx.stochastic_graph(D, weight=weight)\n",
    "    N = W.number_of_nodes()\n",
    " \n",
    "    # Choose fixed starting vector if not given\n",
    "    if nstart is None:\n",
    "        x = dict.fromkeys(W, 1.0 / N)\n",
    "    else:\n",
    "        # Normalized nstart vector\n",
    "        s = float(sum(nstart.values()))\n",
    "        x = dict((k, v / s) for k, v in nstart.items())\n",
    " \n",
    "    if personalization is None:\n",
    " \n",
    "        # Assign uniform personalization vector if not given\n",
    "        p = dict.fromkeys(W, 1.0 / N)\n",
    "    else:\n",
    "        missing = set(G) - set(personalization)\n",
    "        if missing:\n",
    "            raise NetworkXError('Personalization dictionary '\n",
    "                                'must have a value for every node. '\n",
    "                                'Missing nodes %s' % missing)\n",
    "        s = float(sum(personalization.values()))\n",
    "        p = dict((k, v / s) for k, v in personalization.items())\n",
    " \n",
    "    if dangling is None:\n",
    " \n",
    "        # Use personalization vector if dangling vector not specified\n",
    "        dangling_weights = p\n",
    "    else:\n",
    "        missing = set(G) - set(dangling)\n",
    "        if missing:\n",
    "            raise NetworkXError('Dangling node dictionary '\n",
    "                                'must have a value for every node. '\n",
    "                                'Missing nodes %s' % missing)\n",
    "        s = float(sum(dangling.values()))\n",
    "        dangling_weights = dict((k, v/s) for k, v in dangling.items())\n",
    "    dangling_nodes = [n for n in W if W.out_degree(n, weight=weight) == 0.0]\n",
    " \n",
    "    # power iteration: make up to max_iter iterations\n",
    "    for _ in range(max_iter):\n",
    "        xlast = x\n",
    "        x = dict.fromkeys(xlast.keys(), 0)\n",
    "        danglesum = alpha * sum(xlast[n] for n in dangling_nodes)\n",
    "        for n in x:\n",
    " \n",
    "            # this matrix multiply looks odd because it is\n",
    "            # doing a left multiply x^T=xlast^T*W\n",
    "            for nbr in W[n]:\n",
    "                x[nbr] += alpha * xlast[n] * W[n][nbr][weight]\n",
    "            x[n] += danglesum * dangling_weights[n] + (1.0 - alpha) * p[n]\n",
    " \n",
    "        # check convergence, l1 norm\n",
    "        err = sum([abs(x[n] - xlast[n]) for n in x])\n",
    "        if err < N*tol:\n",
    "            return x\n",
    "    raise ('pagerank: power iteration failed to converge ')"
   ]
  },
  {
   "cell_type": "markdown",
   "id": "a90bc3f6",
   "metadata": {},
   "source": [
    "##### Functionality 3\n",
    "\n",
    "For this part we use two functions. In **dijkstraAlgo** there is our implementation of the [Dijkstra's Algorithm](https://en.wikipedia.org/wiki/Dijkstra%27s_algorithm). Then in **shortest_ordered_route** there is the implementation of the functionality 3. To get the shortest route passing for all the given points $[p_{1}, p_{2},\\dots , p_{n}]$ we use the Algorithm between $p_{1}$ and $p_{2}$, then between $p_{2}$ and $p_{3}$ and so on and connect all the resulting path to obtain the final result."
   ]
  },
  {
   "cell_type": "code",
   "execution_count": 14,
   "id": "04039e13",
   "metadata": {},
   "outputs": [],
   "source": [
    "def shortest_ordered_route(time_interval, sequence_of_users):\n",
    "    print(\"Loading the graph...\")\n",
    "    G = merge_graph(time_interval)\n",
    "    totalDistance = 0\n",
    "    finalPath = []\n",
    "    for i in range(len(sequence_of_users)-1):\n",
    "        distance, path = dijkstraAlgo(G,sequence_of_users[i], sequence_of_users[i+1])\n",
    "        if distance == 'Not possible':\n",
    "            return(\"It isn't possible to find a path between these nodes\")\n",
    "        totalDistance += distance\n",
    "        if path != False:\n",
    "            for i in range(len(path)-1):\n",
    "                finalPath.append(path[i])\n",
    "    finalPath.append(sequence_of_users[-1])\n",
    "    return(f\"The shortest path passing in all given nodes is {finalPath} with a distance of {totalDistance}\")"
   ]
  },
  {
   "cell_type": "code",
   "execution_count": 86,
   "id": "4e349fbe",
   "metadata": {},
   "outputs": [],
   "source": [
    "def dijkstraAlgo(G, source, target):\n",
    "    distances  = {} \n",
    "    previous_nodes = {} \n",
    "    unvisited_nodes = list(nx.nodes(G)) \n",
    "    if (source not in list(G.nodes)) or (target not in list(G.nodes)):\n",
    "        return ('Not possible', None)\n",
    "    \n",
    "    #setting all distances to +inf and the distance of the source node to 0\n",
    "    for node in unvisited_nodes:\n",
    "        distances[node] = math.inf\n",
    "        previous_nodes[node] = None\n",
    "    distances[source] = 0 \n",
    "     \n",
    "    while len(unvisited_nodes) > 0:#until I visit all possible nodes \n",
    "        node_distance = []\n",
    "        for node in unvisited_nodes: \n",
    "            node_distance.append(distances[node])\n",
    "        if np.min(node_distance) == math.inf:   #if all the distances are infinite it means I can't reach those nodes\n",
    "            break\n",
    "        u = unvisited_nodes[node_distance.index(np.min(node_distance))] #I take the unvisited node with less distance\n",
    "        unvisited_nodes.remove(u) \n",
    "        \n",
    "        \n",
    "        for neighbor in G.neighbors(u):  #I check his neighbors\n",
    "            new_dist = distances[u] + G[u][neighbor]['weight']  \n",
    "            if distances[neighbor] > new_dist:  #update the distance only if it is smaller\n",
    "                distances[neighbor] = new_dist \n",
    "                previous_nodes[neighbor] = u\n",
    "\n",
    "               \n",
    "                \n",
    "    if previous_nodes[target] == None:  #If I didn't reach the target there aren't any path to it so I exit the function\n",
    "        return ('Not possible', None)\n",
    "\n",
    "    path = [target]\n",
    "    current = target\n",
    "    while current != source:   #From the target I get back to the source using the previous_nodes dictionary\n",
    "        path.append(previous_nodes[current])\n",
    "        current = previous_nodes[current]\n",
    "    path.reverse()\n",
    "\n",
    "    return distances[target], path"
   ]
  },
  {
   "cell_type": "markdown",
   "id": "d280a83e",
   "metadata": {},
   "source": [
    "##### Functionality 4\n",
    "\n",
    "In this task we had to separate two given nodes so that there isn't any path connecting one to another. To do this we use our **Dijkstra'a Algorithm** to check if there is a path connecting them. If there is a path we cut the edge with less weight and try again the algorithm until we can't find a new path. Since this is a directed graph it is possible that a node A isn't connected to a node B but B is connected to A, so we had to make sure we applied the algorithm both ways. Our function gives in output the number of cuts we performed and what edges we removed."
   ]
  },
  {
   "cell_type": "code",
   "execution_count": 16,
   "id": "cef790b8",
   "metadata": {},
   "outputs": [],
   "source": [
    "def disconnectNodes(G, node1, node2):    \n",
    "    numberOfDisconnection = 0\n",
    "    edgeDisconnected = []\n",
    "    distance, path = dijkstraAlgo(G, node1, node2)\n",
    "    \n",
    "    if distance == 'Not possible':#I check if the nodes are already disconnected\n",
    "        return(numberOfDisconnection, edgeDisconnected)\n",
    "\n",
    "    while distance!= 'Not possible':#I repeate until the nodes are disconnected\n",
    "        weights = []  #I save all the weight of the single edges of the path so that I can remove the minimum\n",
    "        for i in range(len(path)-1):\n",
    "            weights.append(G[path[i]][path[i+1]]['weight'])\n",
    "        cut_index = weights.index(min(weights))  #Find the index where I have to cut\n",
    "        G.remove_edge(path[cut_index],path[cut_index+1])  #Remove the edge from the graph and save its information in our vector\n",
    "        numberOfDisconnection +=1\n",
    "        edgeDisconnected.append([path[cut_index],path[cut_index+1]])\n",
    "        distance, path = dijkstraAlgo(G, node1, node2)  #Check dijkstra again to see if they're disconnected or not\n",
    "    \n",
    "    return numberOfDisconnection, edgeDisconnected   "
   ]
  },
  {
   "cell_type": "code",
   "execution_count": 17,
   "id": "aced9da8",
   "metadata": {},
   "outputs": [],
   "source": [
    "def disconnectGraph(time_interval, user1, user2):\n",
    "    disconnection = 0\n",
    "    edgeDisconnected = []\n",
    "    G = merge_graph(time_interval)\n",
    "    \n",
    "    #first disconnect user1 from user 2\n",
    "    firstDisconnection, firstEdges = disconnectNodes(G, user1, user2)\n",
    "    disconnection += firstDisconnection    \n",
    "    edgeDisconnected.append(firstEdges)\n",
    "    \n",
    "    #then disconnect user 2 from user 1\n",
    "    \n",
    "    secondDisconnection, secondEdges = disconnectNodes(G, user2, user1)\n",
    "    disconnection += secondDisconnection    \n",
    "    edgeDisconnected.append(secondEdges)\n",
    "    \n",
    "    return disconnection, edgeDisconnected\n",
    "    \n",
    "    "
   ]
  },
  {
   "cell_type": "code",
   "execution_count": 80,
   "id": "579e3929",
   "metadata": {},
   "outputs": [],
   "source": [
    "time_interval = [dt.strptime('15-8-2010', \"%d-%m-%Y\").date(),dt.strptime('15-8-2010', \"%d-%m-%Y\").date()]"
   ]
  },
  {
   "cell_type": "code",
   "execution_count": 81,
   "id": "cf74b3f1",
   "metadata": {},
   "outputs": [
    {
     "name": "stderr",
     "output_type": "stream",
     "text": [
      "100%|█████████████████████████████████████████████████████████████████| 16703594/16703594 [00:05<00:00, 3172096.36it/s]\n",
      "100%|█████████████████████████████████████████████████████████████████| 17535031/17535031 [00:05<00:00, 3152328.78it/s]\n",
      "100%|█████████████████████████████████████████████████████████████████| 13664641/13664641 [00:04<00:00, 3121932.89it/s]\n"
     ]
    }
   ],
   "source": [
    "G = merge_graph(time_interval)"
   ]
  },
  {
   "cell_type": "code",
   "execution_count": 33,
   "id": "88818ce7",
   "metadata": {},
   "outputs": [
    {
     "name": "stderr",
     "output_type": "stream",
     "text": [
      "100%|█████████████████████████████████████████████████████████████████| 16703594/16703594 [00:05<00:00, 3101936.55it/s]\n"
     ]
    }
   ],
   "source": [
    "G_a2q=create_graph(data_a2q, weight = 2, time_interval = time_interval)\n"
   ]
  },
  {
   "cell_type": "code",
   "execution_count": 85,
   "id": "f96b79b7",
   "metadata": {},
   "outputs": [
    {
     "data": {
      "text/plain": [
       "NodeView((345383, 420493, 330565, 25999, 420451, 344286, 203459, 398262, 268874, 343088, 183528, 188962, 388299, 242763, 313137, 419275, 340355, 383187, 53797, 394649, 2147, 2847, 251461, 29110, 420346, 420301, 420415, 394305, 98180, 299935, 111445, 186636, 385953, 5834, 420506, 134397, 234661, 63264, 420375, 50175, 246568, 288875, 407573, 83037, 232371, 420444, 257535, 369317, 401120, 420508, 112355, 414972, 125075, 65084, 357234, 210905, 413897, 417024, 166067, 419240, 238489, 383402, 420512, 203907, 87399, 325565, 408894, 215534, 185848, 127359, 390695, 336508, 208222, 294650, 418488, 70613, 157882, 259014, 247243, 148870, 417854, 411500, 11470, 366209, 229602, 14800, 179795, 310574, 22656, 2034126, 19299, 388553, 66692, 401523, 102207, 203476, 420505, 236532, 5921, 415540, 20860, 204588, 312627, 191808, 420521, 420433, 358202, 420517, 312260, 3397, 224671, 407060, 411802, 187606, 1762, 420344, 398749, 15255, 88159, 140814, 189294, 295264, 118272, 3713, 287885, 190597, 420501, 445328, 172588, 418887, 40516, 411996, 239243, 280832, 407511, 111307, 198729, 341616, 215966, 394434, 323303, 58657, 139459, 419946, 160300, 109097, 407027, 399959, 73044, 312958, 238134, 249916, 14343, 131926, 171742, 326480, 398968, 393328, 420530, 48486, 233076, 17744, 105744, 405575, 408459, 379504, 393786, 39992, 407756, 61974, 420523, 399268, 417757, 191367, 92812, 130164, 269419, 24582, 74814, 221023, 252701, 241308, 105148, 420528, 199185, 414940, 127259, 412269, 17034, 52031, 141661, 152092, 184595, 418690, 304, 420533, 381436, 256138, 263693, 10853, 99256, 414121, 324312, 103739, 366982, 106769, 7985, 419090, 193619, 180524, 3121, 32133, 420511, 160406, 259562, 420542, 25782, 25498, 21339, 401832, 82673, 106671, 371571, 53114, 398727, 420549, 121408, 420418, 167911, 420541, 252289, 295614, 420088, 207820, 8707, 357261, 206328, 263215, 420420, 2548, 2189771, 235161, 278538, 408953, 408416, 257942, 368003, 225667, 151744, 420269, 275390, 366377, 420550, 38206, 177710, 298661, 353442, 382471, 179542, 34824, 164188, 217162, 24391, 394717, 408734, 420553, 95810, 70604, 314862, 107922, 24170, 420520, 412175, 110769, 196838, 74619, 403968, 268098, 5171, 412317, 124538, 172881, 420556, 115866, 11194, 639424, 27204, 420564, 391531, 401041, 175071, 140185, 131989, 73297, 289804, 420561, 68204, 366234, 105929, 410159, 414458, 19563, 19068, 133374, 202160, 394876, 2988, 369137, 400437, 379181, 117870, 1605, 144983, 133203, 10637, 345859, 239539, 17516, 159179, 193481, 73070, 419373, 52101, 63399, 11683, 203262, 127724, 44533, 166491, 20128, 418365, 420571, 36305, 402814, 536, 229652, 413501, 272010, 115730, 243570, 5363, 33080, 414184, 21239, 416645, 31044, 420386, 246424, 144356, 50552, 420400, 61164, 444854, 231435, 420580, 108869, 399397, 156755, 145190, 377920, 420536, 112496, 239527, 299375, 399106, 96100, 301152, 420577, 174467, 98713, 349308, 22820, 420591, 7927, 23562, 354721, 119973, 323433, 361867, 225647, 257022, 420584, 430543, 60761, 5380, 274117, 9787, 150771, 242769, 349100, 319650, 37213, 112936, 420589, 411944, 88898, 399825, 420596, 11722, 62999, 235334, 146588, 237863, 301957, 38803, 149206, 420583, 107277, 152602, 382023, 419921, 112955, 4234, 8114, 40480, 155693, 177222, 3570, 75877, 276052, 152147, 320226, 63849, 416133, 306709, 400252, 7851, 300526, 153350, 406926, 420459, 107883, 164998, 111500, 159189, 237681, 132374, 9368, 282848, 365568, 420605, 180674, 178016, 229849, 420609, 1366, 411937, 411604, 415713, 900, 231917, 355389, 407420, 341251, 271362, 20388, 404020, 125456, 169394, 10999, 293542, 193986, 208513, 275674, 420618, 3747, 363751, 385433, 239456, 40468, 299048, 420479, 417367, 33225, 284700, 31326, 313561, 32188, 313237, 63736, 105084, 343607, 416729, 178761, 106648, 1509, 72871, 15168, 266392, 446536, 230520, 221149, 340610, 420622, 384188, 161150, 345289, 740, 368537, 82062, 328397, 196002, 80633, 420628, 85385, 225998, 161483, 60725, 433417, 122313, 420611, 420631, 240698, 163921, 99354, 1175, 224087, 289887, 287311, 420630, 59303, 161922, 416571, 105224, 406984, 3501, 186964, 202250, 160225, 231216, 400056, 410074, 36984, 420634, 220225, 251234, 183395, 163728, 420637, 50468, 150746, 381285, 318714, 259705, 314536, 382190, 2598, 402610, 279966, 420639, 110750, 51438, 420640, 26079, 209102, 13989, 419017, 351025, 347934, 381798, 85616, 118175, 15366, 100747, 420568, 2066914, 420218, 376821, 420644, 411359, 347999, 411326, 198128, 406987, 320417, 312002, 148909, 74302, 405341, 251956, 8522, 364253, 94557, 294327, 93311, 225899, 36112, 321735, 151292, 368599, 420645, 200145, 408089, 323434, 271376, 146780, 349333, 385517, 15441, 364114, 250648, 388987, 220839, 159550, 226747, 131930, 383152, 116908, 391465, 76852, 2687173, 292969, 73016, 55954, 245706, 82686, 87698, 92568, 67606, 414169, 339850, 119116, 142434, 157752, 199660, 33796, 365087, 1385039, 168871, 387076, 420656, 352636, 352687, 342852, 253231, 40922, 396999, 365184, 112053, 143305, 236215, 68589, 103059, 420655, 23199, 32978, 699226, 18309, 407120, 105019, 350294, 366464, 420657, 92713, 297847, 448452, 140367, 104525, 260424, 257550, 375232, 53658, 378622, 134877, 270635, 356292, 1306477, 139746, 444976, 393632, 418979, 420664, 74658, 283564, 259778, 264795, 420658, 2387, 420648, 320007, 250880, 310121, 327771, 359610, 341275, 373327, 308687, 420518, 264697, 405114, 345480, 420659, 87234, 407382, 271475, 350403, 35306, 374835, 2658202, 169956, 420668, 148271, 183406, 104891, 299711, 247587, 353988, 345657, 300634, 367607, 359889, 420672, 420670, 336186, 89628, 361427, 21234, 184730, 357034, 342156, 218978, 293659, 410514, 77914, 135675, 53960, 287586, 125505, 411768, 90850, 36565, 42346, 420662, 155077, 97516, 395258, 202313, 6744, 64127, 420673, 124674, 420661, 28802, 64434, 178382, 103144, 408111, 2611, 336455, 13249, 420608, 376702, 200609, 105999, 46894, 49942, 184145, 346418, 401675, 420565, 19502, 389590, 10673, 3596, 914942, 44286, 250260, 301839, 305644, 419001, 216946, 54017, 886931, 95103, 287403, 420681, 303176, 399029, 359310, 420682, 236243, 420174, 367292, 226897, 357174, 206680, 102270, 205377, 1993466, 420338, 31667, 229075, 378049, 67, 210916, 27779, 375874, 385990, 338745, 121626, 183579, 417817, 198501, 420685, 192812, 403965, 362809, 37190, 331071, 7432, 345645, 1665, 25316, 240613, 408130, 288437, 338840, 193476, 156142, 314087, 1060, 400048, 420689, 360834, 102635, 253984, 247037, 298656, 417796, 398238, 418983, 55847, 420692, 219352, 420385, 283055, 200936, 8355, 312483, 307994, 597148, 160145, 1104, 266285, 41861, 152993, 213216, 159438, 143377, 420688, 207187, 56097, 420701, 55246, 47161, 198643, 326518, 125407, 292455, 112212, 2287, 420697, 420065, 5441, 222908, 405280, 82548, 5169, 259311, 2025, 126346, 18091, 191332, 2879954, 218159, 323698, 271917, 420703, 86949, 20126, 290136, 420709, 161266, 5289, 139985, 281806, 72937, 419895, 364219, 893, 237472, 245747, 117167, 299216, 11635, 124518, 409110, 420603, 310648, 286871, 135152, 379698, 243245, 2045611, 413468, 119271, 127477, 314239, 420699, 111934, 420288, 202105, 152963, 123109, 324753, 236169, 102937, 420716, 420717, 66620, 90352, 179867, 176769, 400055, 383167, 396458, 4421, 125507, 280995, 352926, 420470, 914600, 215769, 153285, 407248, 1053, 420720, 391812, 334201, 52564, 52529, 224922, 109702, 187954, 202382, 420683, 14957, 378105, 44330, 10320, 2351099, 23903, 308315, 420582, 155082, 59877, 298575, 131209, 150363, 384894, 367803, 420705, 420722, 420719, 420028, 420702, 107452, 91020, 386611, 31615, 181497, 389658, 35478, 245004, 361920, 2518, 32816, 123067, 172861, 230513, 420669, 207421, 403610, 160463, 420724, 113716, 378874, 211160, 35434, 24874, 80907, 177883, 346624, 260841, 84270, 143378, 551731, 82156, 5651, 5416, 248417, 154870, 420581, 145403, 188704, 420663, 324639, 350921, 159685, 9842, 62780, 232593, 194, 331179, 309683, 154152, 247184, 418110, 359967, 78351, 126769, 290535, 23589, 394277, 204275, 90801, 2153, 420737, 257261, 203372, 158779, 420740, 57832, 69083, 323720, 83144, 239923, 420739, 15124, 254046, 33918, 354802, 348056, 165500, 400861, 243335, 293221, 217101, 15537, 407723, 188750, 227698, 409852, 172303, 324900, 330644, 781, 53670, 395169, 83853, 106095, 181239, 411247, 273120, 394487, 287562, 369892, 67022, 192910, 304115, 290645, 413742, 420747, 417359, 288102, 82959, 185199, 285465, 245926, 201090, 219579, 234194, 320700, 5023, 414064, 62984, 393273, 185140, 420748, 335794, 152159, 4928, 380691, 411615, 364001, 19112, 36723, 223897, 420010, 420759, 416715, 416833, 276975, 417513, 6391, 420474, 90227, 34464, 946199, 420760, 418115, 73446, 420723, 231536, 357003, 420766, 420767, 308674, 365555, 86017, 418225, 182159, 20616, 196829, 135850, 420755, 105492, 231167, 59501, 334642, 308610, 316602, 420769, 341188, 30697, 420650, 420768, 348023, 393908, 65299, 8590, 259162, 313758, 295677, 389288, 420460, 406194, 191201, 374436, 133520, 381474, 190243, 200646, 384252, 39375, 303431, 418423, 277350, 349939, 176307, 407376, 379267, 278851, 402662, 420120, 40002, 149482, 229072, 179910, 420773, 47773, 279604, 6106, 7256, 215752, 366797, 364873, 61320, 130168, 400610, 403971, 92602, 137400, 340621, 5445, 369618, 420779, 184746, 39677, 46675, 413515, 16076, 338803, 420781, 26682, 118068, 420780, 200291, 369161, 4007, 420390, 241475, 387317, 14860, 425481, 305163, 420786, 412690, 328501, 49910, 382485, 270797, 414089, 313721, 394838, 23324, 378698, 374953, 159937, 420278, 59135, 8206, 245994, 309308, 376728, 418235, 420798, 94169, 407526, 181421, 234949, 226208, 407266, 401728, 70386, 10651, 95472, 393501, 394706, 12193, 420803, 108826, 51197, 420799, 377419, 230884, 23649, 30461, 332026, 283647, 367562, 355014, 65718, 420807, 335074, 291955, 126281, 420788, 100754, 133518, 44269, 420616, 149341, 404828, 220819, 111661, 229634, 272824, 420340, 353652, 420814, 185657, 1626, 374752, 420817, 188792, 111469, 74053, 129001, 49246, 372849, 165520, 363863, 123545, 417876, 285587, 223090, 288069, 419686, 347894, 420820, 147601, 79816, 404447, 156678, 416591, 420823, 1702, 420003, 292291, 420824, 225596, 106244, 2938, 419628, 379714, 154502, 141555, 90011, 479291, 7925, 71509, 222217, 75642, 161554, 420784, 236128, 420789, 279313, 58763, 1535199, 372894, 322492, 104458, 420156, 133190, 420811, 74314, 333283, 336600, 420775, 234523, 161628, 117104, 148390, 363543, 333472, 2524814, 286936, 264425, 134725, 328707, 447161, 420827, 388845, 277696, 414569, 402531, 72453, 97672, 420504, 420763, 314028, 173520, 31640, 333255, 276076, 420836, 307323, 456, 385335, 7595, 367077, 385948, 420818, 420800, 29407, 407069, 420839, 5663907, 419116, 330226, 332960, 401403, 175057, 27535, 247573, 318501, 186585, 420847, 420841, 420795, 259900, 83805, 190482, 415627, 377031, 258489, 415397, 140750, 248846, 66522, 404854, 18771, 411377, 353907, 245262, 227992, 71809, 277087, 394526, 69346, 6521, 163394, 397374, 273987, 4249, 416735, 1831, 420832, 398177, 66549, 11755, 144424, 420414, 386076, 219153, 93451, 27805, 420850, 15721, 409098, 19347, 277262, 411928, 273580, 98607, 135687, 396841, 46395, 146325, 315935, 331896, 69433, 176923, 420373, 1311500, 26414, 131595, 285289, 28768, 407704, 420857, 276101, 243782, 419501, 13302, 403902, 234670, 379888, 20980, 2766176, 125921, 15004, 174728, 414506, 75947, 53897, 310626, 420855, 242325, 101863, 372445, 188326, 420860, 372871, 327679, 407578, 420872, 30176, 33466, 134633, 11414, 86785, 61679, 3435, 229899, 260887, 406516, 372026, 131527, 351657, 420873, 326900, 216063, 413905, 315635, 411313, 63051, 147993, 349836, 335023, 7586, 412770, 250294, 79919, 420879, 306849, 388350, 420877, 420868, 390278, 236715, 332100, 294554, 357189, 404651, 366411, 339683, 94687, 406217, 207082, 379262, 466534, 74660, 420851, 382011, 293730, 98509, 220687, 91414, 420889, 413337, 394435, 415184, 282614, 18914, 141800, 209, 235548, 153718, 273266, 414555, 372149, 148365, 388388, 374202, 432512, 236370, 420886, 115078, 211058, 36455, 34537, 273566, 129444, 386562, 420712, 83960, 187537, 112855, 299796, 2959, 52963, 188535, 420893, 380364, 420397, 396289, 217672, 212749, 24545, 376882, 388803, 118437, 187141, 189078, 367916, 363811, 412706, 158310, 420899, 104874, 420898, 155137, 410753, 395158, 304083, 44991, 406464, 349063, 397772, 114298, 6483, 71271, 299257, 34509, 191928, 400973, 142632, 4167, 69777, 384070, 153015, 239670, 167670, 1504796, 418267, 385559, 420371, 262487, 419706, 194982, 13005, 1560850, 264052, 389236, 100634, 235960, 420910, 420908, 6434, 207869, 224346, 180145, 261251, 31399, 86857, 270442, 170692, 333390, 213725, 318053, 183995, 47110, 420212, 27059, 420440, 36384, 92554, 131433, 152873, 124855, 420770, 411637, 420901, 247448, 91299, 420914, 241590, 205640, 420917, 163427, 227203, 255675, 82592, 420721, 368570, 414507, 141438, 41981, 353542, 53030, 389853, 376345, 106008, 123250, 354049, 362681, 1765, 350605, 420715, 39656, 165674, 381148, 341877, 375322, 168465, 420931, 402110, 417330, 232539, 398640, 151627, 419956, 208662, 420934, 2386, 106890, 323547, 420930, 305149, 24630, 169346, 414012, 171006, 57477, 310971, 420920, 3848, 378415, 3857, 327196, 269246, 51831, 217076, 49951, 395316, 73681, 420942, 115005, 203137, 171436, 164835, 32484, 420939, 259638, 149354, 36131, 420944, 4196, 23643, 376873, 147589, 210526, 254829, 177333, 174390, 420904, 67392, 279906, 420952, 133802, 206417, 161331, 416384, 242532, 193011, 268336, 413767, 19090, 420929, 220901, 130074, 195030, 307797, 400547, 289135, 420376, 72668, 340819, 264419, 338926, 140494, 363424, 258127, 17891, 303984, 26453, 25050, 364389, 407802, 62024, 420922, 420515, 392572, 72673, 143505, 2699, 363551, 233085, 225537, 90642, 173934, 174527, 89752, 305150, 384514, 243614, 415496, 162698, 8925, 240439, 351629, 388537, 359825, 420960, 420588, 342346, 56338, 28196, 282912, 386348, 363881, 380316, 374277, 1556338, 252949, 420938, 24995, 373674, 257479, 420958, 406912, 415980, 222013, 417385, 330995, 4038, 362648, 267565, 129404, 75500, 86878, 171985, 372580, 227244, 192236, 196963, 192516, 408717, 420966, 178128, 1514062, 297387, 260034, 420967, 133656, 99923, 419610, 420953, 390320, 324584, 232043, 408390, 420970, 174574, 113858, 324547, 18811, 160206, 389222, 375374, 255688, 420912, 67566, 292166, 420746, 78259, 420878, 342391, 404183, 190807, 353996, 166921, 420980, 23126, 267075, 282236, 92679, 115106, 384994, 420981, 413843, 190578, 13009, 1583, 279776, 344769, 401432, 405674, 403549, 420986, 306722, 149245, 401559, 334519, 50572, 401552, 20270, 420987, 366010, 98491, 149573, 5791, 88932, 417528, 12725, 192657, 401480, 111021, 281546, 420989, 364718, 216294, 140392, 286204, 373151, 420976, 420896, 420936, 419985, 224704, 127549, 378899, 179872, 107768, 420973, 330184, 114194, 387417, 64885, 280314, 154905, 323672, 11289, 1288, 417914, 2368, 419970, 322129, 125672, 251738, 23893, 135827, 109538, 109218, 63295, 14971, 420988, 4833, 32247, 411023, 78258, 54155, 99276, 53212, 379550, 26428, 133840, 369179, 416545, 407503, 253976, 174614, 41321, 370919, 420951, 409566, 191708, 400689, 421009, 143605, 227809, 122428, 396619, 315957, 399059, 361305, 206466, 107375, 282635, 417577, 287583, 326503, 347857, 415905, 356726, 95612, 366309, 52843, 90002, 421020, 48789, 420294, 401441, 50419, 403730, 55563, 201199, 421002, 421016, 409069, 14403, 369503, 280391, 19679, 59279, 377318, 36174, 196561, 301832, 421030, 106435, 133747, 252000, 305259, 377549, 132587, 228964, 395062, 246776, 404568, 177154, 251434, 335385, 348508, 57847, 18149, 42304, 216111, 421023, 232610, 113124, 32187, 421005, 389459, 145347, 417292, 19501, 131688, 421034, 420785, 339876, 256618, 197319, 243943, 383240, 270315, 409167, 420969, 416514, 220636, 340628, 15048, 420991, 383819, 377821, 105583, 241717, 262581, 305469, 170521, 24283, 180518, 10093, 420853, 293467, 45963, 219689, 304849, 306724, 255875, 242853, 9664, 111479, 205815, 346267, 1450, 239094, 177701, 401243, 99463, 72793, 80074, 394787, 395760, 245549, 295112, 370756, 168225, 193453, 197325, 130033, 86731, 388520, 381878, 421050, 317989, 212348, 323839, 127863, 61663, 168034, 107029, 420962, 257727, 46724, 172543, 260610, 334182, 421047, 86837, 1748769, 61289, 256899, 196096, 373215, 100516, 228179, 376290, 945101, 69959, 408821, 298891, 314291, 353497, 184768, 122517, 421058, 25413, 168868, 321714, 421035, 341750, 58864, 396869, 63377, 179581, 155720, 267304, 149392, 169992, 268873, 252207, 127027, 234125, 264875, 332565, 421057, 40441, 3798, 394988, 421072, 182448, 100902, 240655, 71376, 244340, 421042, 174682, 416307, 189950, 401088, 164299, 421081, 385338, 353826, 28656, 175027, 402690, 61905, 349524, 419568, 421064, 75761, 119516, 250912, 82099, 325073, 318090, 377631, 68587, 421087, 420963, 22355, 403098, 295783, 187460, 324, 240733, 130758, 13412, 240443, 87383, 156572, 365119, 156671, 327563, 418192, 12048, 420280, 309259, 416623, 417896, 49197, 14065, 374198, 13621, 402169, 420209, 120579, 23651, 352455, 363132, 580, 161397, 51425, 9634, 30064, 44005, 410244, 330267, 2605095, 9476, 233602, 2695, 420091, 57611, 82187, 109400, 38055, 11225, 305207, 418985, 416798, 340844, 197289, 110028, 322912, 125935, 25282, 121182, 164392, 381345, 420455, 394322, 417882, 366437, 292023, 398170, 52738, 161040, 207716, 394923, 66532, 33213, 108999, 332059, 356816, 139592, 83802, 126917, 229414, 179233, 411402, 10661, 33732, 298860, 257948, 314014, 20760, 255368, 292979, 23034, 114139, 77779, 572, 377225, 187291, 420107, 384943, 276959, 118910, 9334, 112407, 17964, 85606, 2134, 420252, 21399, 298016, 987, 376116, 260122, 1149, 102699, 89373, 146752, 166873, 110707, 7495, 416271, 324307, 356027, 306651, 238123, 420018, 329320, 92239, 92315, 268847, 398557, 27555, 189163, 126042, 345282, 75889, 191595, 145499, 209760, 298939, 403532, 70060, 139766, 123582, 104796, 129032, 401446, 12195, 21574, 39068, 217943, 62130, 415133, 62628, 14637, 27450, 104181, 1392133, 55094, 1420271, 7529, 267, 45654, 24302, 298182, 350237, 50109, 27423, 81424, 11549, 420234, 47550, 304335, 308871, 385976, 134063, 107180, 70393, 56541, 420229, 146289, 167945, 391047, 13154, 20133, 213939, 240566, 293316, 25371, 192472, 376258, 183600, 232217, 8090, 353875, 13924, 352583, 15639, 145261, 289501, 17919, 242933, 316092, 359040, 20938, 417449, 53013, 3225, 393455, 251959, 147463, 119418, 226621, 392742, 6475, 162192, 330913, 146656, 226526, 235914, 16673, 350836, 50617, 242348, 164207, 76813, 19104, 39094, 75047, 272752, 391033, 69585, 201988, 80989, 10396, 188643, 199418, 18797, 145117, 352325, 51242, 23308, 180558, 314073, 238704, 181739, 24396, 42522, 64045, 391302, 23271, 419519, 1489272, 108859, 91674, 47529, 287985, 20135, 179715, 168202, 194742, 98401, 98561, 387961, 13263, 46690, 126214, 202694, 55913, 140719, 364683, 417694, 152541, 411428, 445105, 4115, 131852, 15614, 317589, 13663, 11807, 130060, 139396, 272861, 92448, 330415, 275751, 347185, 157321, 194940, 170194, 418500, 85128, 122441, 374478, 57330, 103897, 346649, 19479, 366856, 247013, 420112, 905, 362727, 188512, 417740, 77915, 48553, 32203, 41021, 371707, 93342, 114421, 187350, 420377, 420008, 309425, 418343, 152048, 81946, 251210, 205756, 152148, 66580, 181866, 206861, 61157, 420105, 259076, 144355, 18049, 3034, 446733, 445303, 323929, 69634, 16534, 157804, 115145, 25972, 96656, 123802, 1690, 415328, 289995, 20578, 8528, 249493, 303396, 366447, 149157, 266670, 124737, 95140, 90899, 191442, 12030, 307702, 243480, 353790, 15055, 31099, 127751, 4958, 22704, 73226, 55718, 139298, 260138, 19540, 366051, 8279, 276478, 313600, 2127508, 404052, 23973, 302831, 200940, 130465, 414182, 384306, 256218, 163213, 10837, 60261, 58785, 53543, 147424, 133563, 82769, 420235, 108602, 119549, 153112, 45813, 417864, 221061, 43864, 56128, 2509, 304778, 104184, 84478, 136550, 57428, 12711, 203458, 150510, 55074, 240313, 8946, 60628, 120163, 251153, 41747, 276822, 372731, 302341, 420265, 234232, 171910, 449987, 274806, 146758, 17279, 312208, 168657, 15880, 197574, 52273, 13030, 338665, 28028, 374849, 78845, 2106, 95267, 68814, 357594, 60075, 101258, 420087, 376481, 124964, 266846, 355325, 249431, 289442, 34796, 256431, 15906, 235990, 99343, 364843, 183181, 159270, 137624, 361378, 420357, 419593, 250683, 390407, 2281094, 300118, 311782, 384533, 417943, 68262, 8674, 11596, 23341, 1103052, 420292, 103575, 130652, 20029, 242241, 384080, 189815, 226431, 392485, 217586, 409498, 223786, 418234, 137350, 370927, 186319, 254215, 10522, 12960, 344612, 206367, 102704, 10658, 108796, 290503, 157195, 133657, 91516, 366522, 105227, 20553, 2363, 270986, 390989, 211777, 116862, 359362, 136967, 349594, 135586, 231950, 57757, 382564, 159369, 299285, 233512, 419398, 52598, 63898, 300257, 418575, 118703, 414552, 71519, 128595, 83109, 28494, 148869, 236011, 80901, 20552, 64964, 419852, 222893, 49870, 364418, 180247, 153149, 313357, 28760, 55254, 411807, 102703, 64423, 6330, 392521, 579646, 69545, 379950, 45967, 244273, 794, 191794, 19966, 127007, 94197, 133008, 209706, 16193, 149265, 27474, 93928, 8041, 145552, 125844, 228763, 417512, 235825, 160887, 167735, 191647, 80932, 367725, 408683, 6805, 192791, 44000, 51760, 183304, 168939, 363450, 3835, 227695, 415564, 418774, 126229, 279592, 63116, 414853, 146764, 191318, 6062, 100930, 84538, 423283, 183910, 163349, 24588, 40240, 386610, 135944, 151847, 31515, 8918, 41956, 262980, 147192, 2411916, 105459, 59730, 90998, 88656, 165216, 278265, 20946, 369113, 191641, 24126, 231567, 196458, 14089, 20481, 1527, 300082, 49972, 256728, 101090, 340701, 419588, 2688, 99401, 192839, 373455, 167837, 127669, 415362, 258791, 17635, 76123, 27862, 38207, 403961, 404033, 271844, 207266, 132382, 63743, 335412, 155094, 246524, 15031, 157872, 457898, 328048, 312325, 9951, 21706, 8741, 37370, 12943, 324788, 248185, 232763, 25646, 353760, 357587, 63309, 213269, 182668, 265530, 204847, 295964, 6277, 240438, 761503, 319905, 294000, 173689, 341117, 45786, 57776, 479, 344922, 144633, 126574, 65047, 408738, 248129, 245274, 155007, 82511, 93540, 364082, 149402, 62699, 325324, 3171, 371037, 162895, 83741))"
      ]
     },
     "execution_count": 85,
     "metadata": {},
     "output_type": "execute_result"
    }
   ],
   "source": [
    "G.nodes"
   ]
  },
  {
   "cell_type": "code",
   "execution_count": null,
   "id": "55076865",
   "metadata": {},
   "outputs": [],
   "source": [
    "closenessCentrality(G, 345383)"
   ]
  },
  {
   "cell_type": "code",
   "execution_count": 62,
   "id": "e3f4fb5f",
   "metadata": {},
   "outputs": [
    {
     "ename": "SyntaxError",
     "evalue": "invalid syntax (<ipython-input-62-4992d226f45c>, line 1)",
     "output_type": "error",
     "traceback": [
      "\u001b[1;36m  File \u001b[1;32m\"<ipython-input-62-4992d226f45c>\"\u001b[1;36m, line \u001b[1;32m1\u001b[0m\n\u001b[1;33m    54197  230202  63627  48465   14484\u001b[0m\n\u001b[1;37m           ^\u001b[0m\n\u001b[1;31mSyntaxError\u001b[0m\u001b[1;31m:\u001b[0m invalid syntax\n"
     ]
    }
   ],
   "source": [
    "54197  230202  63627  48465  84206 251111  84206  234499   "
   ]
  },
  {
   "cell_type": "code",
   "execution_count": 46,
   "id": "58227177",
   "metadata": {},
   "outputs": [
    {
     "data": {
      "text/plain": [
       "0.014790996784565916"
      ]
     },
     "execution_count": 46,
     "metadata": {},
     "output_type": "execute_result"
    }
   ],
   "source": [
    "degreeCentrality(G,20862)"
   ]
  },
  {
   "cell_type": "code",
   "execution_count": 47,
   "id": "7953e9a7",
   "metadata": {},
   "outputs": [
    {
     "data": {
      "text/plain": [
       "0.0021602548844664605"
      ]
     },
     "execution_count": 47,
     "metadata": {},
     "output_type": "execute_result"
    }
   ],
   "source": [
    "pageRank(G)[20862]"
   ]
  },
  {
   "cell_type": "code",
   "execution_count": 48,
   "id": "0c76b1bb",
   "metadata": {},
   "outputs": [
    {
     "name": "stderr",
     "output_type": "stream",
     "text": [
      "  0%|▏                                                                             | 13/4666 [00:19<1:55:59,  1.50s/it]\n"
     ]
    },
    {
     "ename": "KeyboardInterrupt",
     "evalue": "",
     "output_type": "error",
     "traceback": [
      "\u001b[1;31m---------------------------------------------------------------------------\u001b[0m",
      "\u001b[1;31mKeyboardInterrupt\u001b[0m                         Traceback (most recent call last)",
      "\u001b[1;32m<ipython-input-48-3281074288af>\u001b[0m in \u001b[0;36m<module>\u001b[1;34m\u001b[0m\n\u001b[1;32m----> 1\u001b[1;33m \u001b[0mclosenessCentrality\u001b[0m\u001b[1;33m(\u001b[0m\u001b[0mG\u001b[0m\u001b[1;33m,\u001b[0m\u001b[1;36m20862\u001b[0m\u001b[1;33m)\u001b[0m\u001b[1;33m\u001b[0m\u001b[1;33m\u001b[0m\u001b[0m\n\u001b[0m",
      "\u001b[1;32m<ipython-input-12-1241c886e5b8>\u001b[0m in \u001b[0;36mclosenessCentrality\u001b[1;34m(G, user)\u001b[0m\n\u001b[0;32m      2\u001b[0m     \u001b[0mresult\u001b[0m \u001b[1;33m=\u001b[0m \u001b[1;36m0\u001b[0m\u001b[1;33m\u001b[0m\u001b[1;33m\u001b[0m\u001b[0m\n\u001b[0;32m      3\u001b[0m     \u001b[1;32mfor\u001b[0m \u001b[0mnode\u001b[0m \u001b[1;32min\u001b[0m \u001b[0mtqdm\u001b[0m\u001b[1;33m(\u001b[0m\u001b[0mG\u001b[0m\u001b[1;33m.\u001b[0m\u001b[0mnodes\u001b[0m\u001b[1;33m)\u001b[0m\u001b[1;33m:\u001b[0m\u001b[1;33m\u001b[0m\u001b[1;33m\u001b[0m\u001b[0m\n\u001b[1;32m----> 4\u001b[1;33m         \u001b[0mdistance\u001b[0m\u001b[1;33m,\u001b[0m \u001b[0mpath\u001b[0m \u001b[1;33m=\u001b[0m \u001b[0mdijkstraAlgo\u001b[0m\u001b[1;33m(\u001b[0m\u001b[0mG\u001b[0m\u001b[1;33m,\u001b[0m \u001b[0muser\u001b[0m\u001b[1;33m,\u001b[0m \u001b[0mnode\u001b[0m\u001b[1;33m)\u001b[0m\u001b[1;33m\u001b[0m\u001b[1;33m\u001b[0m\u001b[0m\n\u001b[0m\u001b[0;32m      5\u001b[0m         \u001b[1;32mif\u001b[0m \u001b[0mdistance\u001b[0m\u001b[1;33m!=\u001b[0m\u001b[1;34m'Not possible'\u001b[0m\u001b[1;33m:\u001b[0m\u001b[1;33m\u001b[0m\u001b[1;33m\u001b[0m\u001b[0m\n\u001b[0;32m      6\u001b[0m             \u001b[0mresult\u001b[0m \u001b[1;33m+=\u001b[0m \u001b[0mdistance\u001b[0m\u001b[1;33m\u001b[0m\u001b[1;33m\u001b[0m\u001b[0m\n",
      "\u001b[1;32m<ipython-input-24-010b8cafde01>\u001b[0m in \u001b[0;36mdijkstraAlgo\u001b[1;34m(G, source, target)\u001b[0m\n\u001b[0;32m     17\u001b[0m         \u001b[1;32mfor\u001b[0m \u001b[0mnode\u001b[0m \u001b[1;32min\u001b[0m \u001b[0munvisited_nodes\u001b[0m\u001b[1;33m:\u001b[0m\u001b[1;33m\u001b[0m\u001b[1;33m\u001b[0m\u001b[0m\n\u001b[0;32m     18\u001b[0m             \u001b[0mnode_distance\u001b[0m\u001b[1;33m.\u001b[0m\u001b[0mappend\u001b[0m\u001b[1;33m(\u001b[0m\u001b[0mdistances\u001b[0m\u001b[1;33m[\u001b[0m\u001b[0mnode\u001b[0m\u001b[1;33m]\u001b[0m\u001b[1;33m)\u001b[0m\u001b[1;33m\u001b[0m\u001b[1;33m\u001b[0m\u001b[0m\n\u001b[1;32m---> 19\u001b[1;33m         \u001b[1;32mif\u001b[0m \u001b[0mnp\u001b[0m\u001b[1;33m.\u001b[0m\u001b[0mmin\u001b[0m\u001b[1;33m(\u001b[0m\u001b[0mnode_distance\u001b[0m\u001b[1;33m)\u001b[0m \u001b[1;33m==\u001b[0m \u001b[0mmath\u001b[0m\u001b[1;33m.\u001b[0m\u001b[0minf\u001b[0m\u001b[1;33m:\u001b[0m   \u001b[1;31m#if all the distances are infinite it means I can't reach those nodes\u001b[0m\u001b[1;33m\u001b[0m\u001b[1;33m\u001b[0m\u001b[0m\n\u001b[0m\u001b[0;32m     20\u001b[0m             \u001b[1;32mbreak\u001b[0m\u001b[1;33m\u001b[0m\u001b[1;33m\u001b[0m\u001b[0m\n\u001b[0;32m     21\u001b[0m         \u001b[0mu\u001b[0m \u001b[1;33m=\u001b[0m \u001b[0munvisited_nodes\u001b[0m\u001b[1;33m[\u001b[0m\u001b[0mnode_distance\u001b[0m\u001b[1;33m.\u001b[0m\u001b[0mindex\u001b[0m\u001b[1;33m(\u001b[0m\u001b[0mnp\u001b[0m\u001b[1;33m.\u001b[0m\u001b[0mmin\u001b[0m\u001b[1;33m(\u001b[0m\u001b[0mnode_distance\u001b[0m\u001b[1;33m)\u001b[0m\u001b[1;33m)\u001b[0m\u001b[1;33m]\u001b[0m \u001b[1;31m#I take the unvisited node with less distance\u001b[0m\u001b[1;33m\u001b[0m\u001b[1;33m\u001b[0m\u001b[0m\n",
      "\u001b[1;32m<__array_function__ internals>\u001b[0m in \u001b[0;36mamin\u001b[1;34m(*args, **kwargs)\u001b[0m\n",
      "\u001b[1;32m~\\anaconda3\\lib\\site-packages\\numpy\\core\\fromnumeric.py\u001b[0m in \u001b[0;36mamin\u001b[1;34m(a, axis, out, keepdims, initial, where)\u001b[0m\n\u001b[0;32m   2828\u001b[0m     \u001b[1;36m6\u001b[0m\u001b[1;33m\u001b[0m\u001b[1;33m\u001b[0m\u001b[0m\n\u001b[0;32m   2829\u001b[0m     \"\"\"\n\u001b[1;32m-> 2830\u001b[1;33m     return _wrapreduction(a, np.minimum, 'min', axis, None, out,\n\u001b[0m\u001b[0;32m   2831\u001b[0m                           keepdims=keepdims, initial=initial, where=where)\n\u001b[0;32m   2832\u001b[0m \u001b[1;33m\u001b[0m\u001b[0m\n",
      "\u001b[1;32m~\\anaconda3\\lib\\site-packages\\numpy\\core\\fromnumeric.py\u001b[0m in \u001b[0;36m_wrapreduction\u001b[1;34m(obj, ufunc, method, axis, dtype, out, **kwargs)\u001b[0m\n\u001b[0;32m     85\u001b[0m                 \u001b[1;32mreturn\u001b[0m \u001b[0mreduction\u001b[0m\u001b[1;33m(\u001b[0m\u001b[0maxis\u001b[0m\u001b[1;33m=\u001b[0m\u001b[0maxis\u001b[0m\u001b[1;33m,\u001b[0m \u001b[0mout\u001b[0m\u001b[1;33m=\u001b[0m\u001b[0mout\u001b[0m\u001b[1;33m,\u001b[0m \u001b[1;33m**\u001b[0m\u001b[0mpasskwargs\u001b[0m\u001b[1;33m)\u001b[0m\u001b[1;33m\u001b[0m\u001b[1;33m\u001b[0m\u001b[0m\n\u001b[0;32m     86\u001b[0m \u001b[1;33m\u001b[0m\u001b[0m\n\u001b[1;32m---> 87\u001b[1;33m     \u001b[1;32mreturn\u001b[0m \u001b[0mufunc\u001b[0m\u001b[1;33m.\u001b[0m\u001b[0mreduce\u001b[0m\u001b[1;33m(\u001b[0m\u001b[0mobj\u001b[0m\u001b[1;33m,\u001b[0m \u001b[0maxis\u001b[0m\u001b[1;33m,\u001b[0m \u001b[0mdtype\u001b[0m\u001b[1;33m,\u001b[0m \u001b[0mout\u001b[0m\u001b[1;33m,\u001b[0m \u001b[1;33m**\u001b[0m\u001b[0mpasskwargs\u001b[0m\u001b[1;33m)\u001b[0m\u001b[1;33m\u001b[0m\u001b[1;33m\u001b[0m\u001b[0m\n\u001b[0m\u001b[0;32m     88\u001b[0m \u001b[1;33m\u001b[0m\u001b[0m\n\u001b[0;32m     89\u001b[0m \u001b[1;33m\u001b[0m\u001b[0m\n",
      "\u001b[1;31mKeyboardInterrupt\u001b[0m: "
     ]
    }
   ],
   "source": [
    "closenessCentrality(G,20862)"
   ]
  },
  {
   "cell_type": "markdown",
   "id": "cf510fd5",
   "metadata": {},
   "source": [
    "##### Visualization \n",
    "Here we store all the function we used to make the Visualization part which takes inputs from the user"
   ]
  },
  {
   "cell_type": "code",
   "execution_count": 27,
   "id": "a756d691",
   "metadata": {},
   "outputs": [],
   "source": [
    "def visualization1(data_a2q, data_c2a, data_c2q):\n",
    "    print(\"Select the dataset you want to have some information about:\")\n",
    "    print(\"1. Answers to questions \\n2. Comments to answers \\n3. Comments to questions \\n\")\n",
    "    n = int(input())\n",
    "    if n not in [1,2,3]:\n",
    "        print(\"Unexpected input\")\n",
    "        return visualization1()\n",
    "    \n",
    "    if n == 1:\n",
    "        print(\"Please wait...\")\n",
    "        G = create_graph(data_a2q, weight = 2)\n",
    "        graphInfo(G)\n",
    "    elif n == 2:\n",
    "        print(\"Please wait...\")\n",
    "        G = create_graph(data_c2a, weight = 2)\n",
    "        graphInfo(G)\n",
    "    elif n == 3:\n",
    "        print(\"Please wait...\")\n",
    "        G = create_graph(data_c2q, weight = 2)\n",
    "        graphInfo(G)"
   ]
  },
  {
   "cell_type": "code",
   "execution_count": 28,
   "id": "bed30ed7",
   "metadata": {},
   "outputs": [],
   "source": [
    "def visualization2():\n",
    "    print(\"Input the beginning of the time interval you want the graph to be restricted to (format: dd-mm-yyyy): \")\n",
    "    try:\n",
    "        start = dt.strptime(input(), \"%d-%m-%Y\").date()\n",
    "    except:\n",
    "        print(\"Invalid date format\")\n",
    "        return visualization2()\n",
    "        \n",
    "    print(\"Input the end of the time interval you want the graph to be restricted to (format: dd-mm-yyyy): \")\n",
    "    try:\n",
    "        end = dt.strptime(input(), \"%d-%m-%Y\").date()\n",
    "    except:\n",
    "        print(\"Invalid date format\")\n",
    "        return visualization2()\n",
    "    time_interval = [start, end]\n",
    "    metricNotChose = True\n",
    "    print(\"Choose one between the following metrics: \\n1. Betweeness\\n2. PageRank\\n3. ClosenessCentrality\\n4. DegreeCentrality\")\n",
    "    while metricNotChose:\n",
    "        n = int(input())\n",
    "        if n in [1,2,3,4]:\n",
    "            metricNotChose = False\n",
    "        else:\n",
    "            print(\"Choose a valid metric\")\n",
    "    user = int(input(\"Choose the user you want to apply the metric on: \"))\n",
    "    \n",
    "    applyMetric(time_interval, n, user)"
   ]
  },
  {
   "cell_type": "code",
   "execution_count": 71,
   "id": "dea7294d",
   "metadata": {},
   "outputs": [],
   "source": [
    "def visualization3():\n",
    "    print(\"Input the beginning of the time interval you want the graph to be restricted to (format: dd-mm-yyyy): \")\n",
    "    try:\n",
    "        start = dt.strptime(input(), \"%d-%m-%Y\").date()\n",
    "    except:\n",
    "        print(\"Invalid date format\")\n",
    "        return visualization3()\n",
    "        \n",
    "    print(\"Input the end of the time interval you want the graph to be restricted to (format: dd-mm-yyyy): \")\n",
    "    try:\n",
    "        end = dt.strptime(input(), \"%d-%m-%Y\").date()\n",
    "    except:\n",
    "        print(\"Invalid date format\")\n",
    "        return visualization3()\n",
    "    time_interval = [start, end]\n",
    "    print(\"Input all the nodes in sequence (note: the nodes are integers, input anything else to stop adding nodes)\")\n",
    "    \n",
    "    sequence = [int(input(\"Insert the first node: \")), int(input(\"Insert the next node: \"))]\n",
    "    \n",
    "    continuing = True\n",
    "    while continuing:\n",
    "        try:\n",
    "            n = int(input(\"Insert the next node: \"))\n",
    "            sequence.append(n)\n",
    "        except:\n",
    "            continuing = False\n",
    "    \n",
    "    print(\"Calculating the shortest ordered route: \")\n",
    "    print(shortest_ordered_route(time_interval, sequence))"
   ]
  },
  {
   "cell_type": "code",
   "execution_count": 78,
   "id": "b0230b24",
   "metadata": {},
   "outputs": [],
   "source": [
    "def visualization4():\n",
    "    print(\"Input the beginning of the time interval you want the graph to be restricted to (format: dd-mm-yyyy): \")\n",
    "    try:\n",
    "        start = dt.strptime(input(), \"%d-%m-%Y\").date()\n",
    "    except:\n",
    "        print(\"Invalid date format\")\n",
    "        return visualization4()\n",
    "        \n",
    "    print(\"Input the end of the time interval you want the graph to be restricted to (format: dd-mm-yyyy): \")\n",
    "    try:\n",
    "        end = dt.strptime(input(), \"%d-%m-%Y\").date()\n",
    "    except:\n",
    "        print(\"Invalid date format\")\n",
    "        return visualization4()\n",
    "    time_interval = [start, end]\n",
    "    \n",
    "    print(\"Enter the nodes that you want to disconnect: \")\n",
    "    node1 = int(input(\"Enter the first node: \"))\n",
    "    node2 = int(input(\"Enter the second node: \"))\n",
    "    \n",
    "    n, edges = disconnectGraph(time_interval, node1, node2)\n",
    "    \n",
    "    if n==0:\n",
    "        return(\"The two nodes are already disconnected\")\n",
    "    \n",
    "    print(f\"To disconnect the two nodes we needed {n} cuts.\")\n",
    "    print(f\"These were the edges of the graph that were cut: {edges}\")\n",
    "    "
   ]
  },
  {
   "cell_type": "code",
   "execution_count": null,
   "id": "e9c8d476",
   "metadata": {},
   "outputs": [],
   "source": []
  },
  {
   "cell_type": "code",
   "execution_count": null,
   "id": "6fa08d15",
   "metadata": {},
   "outputs": [],
   "source": []
  },
  {
   "cell_type": "code",
   "execution_count": 31,
   "id": "a02e01c5",
   "metadata": {},
   "outputs": [
    {
     "ename": "NameError",
     "evalue": "name 'G_a2q' is not defined",
     "output_type": "error",
     "traceback": [
      "\u001b[1;31m---------------------------------------------------------------------------\u001b[0m",
      "\u001b[1;31mNameError\u001b[0m                                 Traceback (most recent call last)",
      "\u001b[1;32m<ipython-input-31-990b13583247>\u001b[0m in \u001b[0;36m<module>\u001b[1;34m\u001b[0m\n\u001b[0;32m     26\u001b[0m     \u001b[0mprint\u001b[0m\u001b[1;33m(\u001b[0m\u001b[0mout\u001b[0m\u001b[1;33m)\u001b[0m\u001b[1;33m\u001b[0m\u001b[1;33m\u001b[0m\u001b[0m\n\u001b[0;32m     27\u001b[0m \u001b[1;33m\u001b[0m\u001b[0m\n\u001b[1;32m---> 28\u001b[1;33m \u001b[0mmain\u001b[0m\u001b[1;33m(\u001b[0m\u001b[0mG_a2q\u001b[0m\u001b[1;33m,\u001b[0m \u001b[0mG_a2q\u001b[0m\u001b[1;33m.\u001b[0m\u001b[0mnodes\u001b[0m\u001b[1;33m(\u001b[0m\u001b[1;33m)\u001b[0m\u001b[1;33m)\u001b[0m\u001b[1;33m\u001b[0m\u001b[1;33m\u001b[0m\u001b[0m\n\u001b[0m\u001b[0;32m     29\u001b[0m \u001b[1;33m\u001b[0m\u001b[0m\n\u001b[0;32m     30\u001b[0m \u001b[1;32mdef\u001b[0m \u001b[0mpr\u001b[0m\u001b[1;33m(\u001b[0m\u001b[0mG\u001b[0m\u001b[1;33m,\u001b[0m \u001b[0mnode\u001b[0m\u001b[1;33m)\u001b[0m\u001b[1;33m:\u001b[0m\u001b[1;33m\u001b[0m\u001b[1;33m\u001b[0m\u001b[0m\n",
      "\u001b[1;31mNameError\u001b[0m: name 'G_a2q' is not defined"
     ]
    }
   ],
   "source": [
    "def admat(G, v):\n",
    "    # G is the graph\n",
    "    # v is the nodes' vector\n",
    "    mat = []\n",
    "    for i in range(len(v)):\n",
    "        l = []\n",
    "        for j in range(len(v)):\n",
    "            l.append(0)\n",
    "        mat.append(l)\n",
    "\n",
    "# I created a squared matrix of lenght equal to v's lenght\n",
    "\n",
    "    for elem in v:  # key in v that is the label of a node\n",
    "\n",
    "        if elem in G:\n",
    "            i = velem  # I find the row that corresponds to the node 'elem'\n",
    "            l = Gelem  # List of adjacency of 'elem'\n",
    "\n",
    "            for node in l:\n",
    "                j = vnode  # I find the row/column that corresponds to 'node'\n",
    "                matj = 1\n",
    "    return mat\n",
    "\n",
    "def main(G, v):\n",
    "    out = admat(G, v)\n",
    "    print(out)\n",
    "\n",
    "main(G_a2q, G_a2q.nodes())\n",
    "\n",
    "def pr(G, node):\n",
    "    \n",
    "    # 'A' is the (directed) adjacency matrix\n",
    "    A = main(G, v)\n",
    "    A = np.array(A)\n",
    "    \n",
    "    # Add a self loop to each node that doesn't have an outgoing link\n",
    "    for node in tqdm(G.nodes):\n",
    "        for couple in graph.edges():\n",
    "            if (couple[1],couple[0]) not in graph.edges():\n",
    "                graph.add_edge(edge[0],edge[0], weight = 1)\n",
    "        \n",
    "        # Let D be the diagonal matrix of outdegrees\n",
    "        D = G.outdegree()\n",
    "        D = np.array(D)\n",
    "        \n",
    "        # Define a column stochastic matrix (columns add to 1) N = AD^(-1) \n",
    "        D = 1/D\n",
    "        N = np.dot(A, D)\n",
    "        \n",
    "        # The PageRank Centrality of node i is equal to the leading eigenvector eigvecs\n",
    "        # of matrix N (leading eigenvalue is 1): eigvecs = N*eigvecs\n",
    "        eigvals, eigvecs = la.eig(A)\n",
    "        print(eigvals)\n",
    "        print(eigvecs, sum(eigvecs))\n",
    "        \n",
    "        # Notice that the underlying concept to the PageRank is that of a Markov chain where a user moves \n",
    "        # from one page to the other with a certain probability, \n",
    "        # given the presence of sinks (pages with no outgoing links) that is called a \n",
    "        # *damping factor* to represent the probability that a user at some point stops clicking,\n",
    "        # preventing him from surely reaching a sink and getting stucked:\n",
    "        \n",
    "        alpha = 0.85\n",
    "        pgr = D * (1/(D - (alpha * A)))\n",
    "        return(pgr)"
   ]
  },
  {
   "cell_type": "code",
   "execution_count": null,
   "id": "00852782",
   "metadata": {},
   "outputs": [],
   "source": []
  }
 ],
 "metadata": {
  "kernelspec": {
   "display_name": "Python 3",
   "language": "python",
   "name": "python3"
  },
  "language_info": {
   "codemirror_mode": {
    "name": "ipython",
    "version": 3
   },
   "file_extension": ".py",
   "mimetype": "text/x-python",
   "name": "python",
   "nbconvert_exporter": "python",
   "pygments_lexer": "ipython3",
   "version": "3.8.8"
  }
 },
 "nbformat": 4,
 "nbformat_minor": 5
}
