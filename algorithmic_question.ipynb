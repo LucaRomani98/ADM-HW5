{
 "cells": [
  {
   "cell_type": "code",
   "execution_count": null,
   "id": "8826fef9-fd9e-4134-81d4-8a68cecc1b04",
   "metadata": {},
   "outputs": [],
   "source": [
    "# Here I create a Dictionary in order to define the nodes and their neighbours.\n",
    "n_kids = { \"A\" : [\"B\", \"C\"],\n",
    "          \"B\" : [\"D\", \"E\", \"A\"],\n",
    "          \"C\" : [\"A\"],\n",
    "          \"D\" : [\"B\", \"E\"],\n",
    "          \"E\" : [\"B\", \"D\"]\n",
    "}\n",
    "\n",
    "# Here I create a function in order to define the edges between the nodes.\n",
    "def quarrel(n_kids):\n",
    "    \n",
    "    # Initialize empty list of edges\n",
    "    quarrel = [] \n",
    "    \n",
    "    # Initialize empty list for the first dormitory\n",
    "    s1 = []\n",
    "    \n",
    "    # Initialize empty list for the second dormitory\n",
    "    s2 = []\n",
    "    \n",
    "    for node in n_kids:\n",
    "        for neighbour in n_kids[node]:\n",
    "            if (neighbour, node) not in quarrel:\n",
    "                quarrel.append((node, neighbour))\n",
    "            if (neighbour, node) in quarrel:\n",
    "                s1.append(node)\n",
    "                s2.append(neighbour)\n",
    "                \n",
    "                # Even if I can take more than once a kid, I just want to know where he goes\n",
    "                s1 = set(s1) \n",
    "                s2 = set(s2)\n",
    "                \n",
    "                # Just for taking a look at the output\n",
    "                print(s1,s2)\n",
    "                \n",
    "                return 1\n",
    "            else:\n",
    "                break\n",
    "\n",
    "print(quarrel(n_kids))"
   ]
  }
 ],
 "metadata": {
  "kernelspec": {
   "display_name": "Python 3",
   "language": "python",
   "name": "python3"
  },
  "language_info": {
   "codemirror_mode": {
    "name": "ipython",
    "version": 3
   },
   "file_extension": ".py",
   "mimetype": "text/x-python",
   "name": "python",
   "nbconvert_exporter": "python",
   "pygments_lexer": "ipython3",
   "version": "3.8.8"
  }
 },
 "nbformat": 4,
 "nbformat_minor": 5
}
