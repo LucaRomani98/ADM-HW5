{
 "cells": [
  {
   "cell_type": "code",
   "execution_count": 1,
   "id": "a63a3915",
   "metadata": {},
   "outputs": [],
   "source": [
    "import networkx as nx\n",
    "import matplotlib.pyplot as plt\n",
    "import pandas as pd\n",
    "import numpy as np\n",
    "from datetime import datetime as dt\n",
    "import time\n",
    "from tqdm import tqdm"
   ]
  },
  {
   "cell_type": "markdown",
   "id": "7237145e",
   "metadata": {},
   "source": [
    "## Loading The Data\n"
   ]
  },
  {
   "cell_type": "code",
   "execution_count": 14,
   "id": "31a6a0c3",
   "metadata": {},
   "outputs": [],
   "source": [
    "def prepare_datasets():\n",
    "    \n",
    "    data_a2q = pd.read_csv('data/sx-stackoverflow-a2q.txt', delimiter = ' ', names=['Source','Target','Time'])\n",
    "    data_c2a = pd.read_csv('data/sx-stackoverflow-c2a.txt', delimiter = ' ', names=['Source','Target','Time'])\n",
    "    data_c2q = pd.read_csv('data/sx-stackoverflow-c2q.txt', delimiter = ' ', names=['Source','Target','Time'])\n",
    "    \n",
    "    data_a2q['Time']=pd.to_datetime(data_a2q['Time'], unit='s').dt.date\n",
    "    data_c2a['Time']=pd.to_datetime(data_c2a['Time'], unit='s').dt.date\n",
    "    data_c2q['Time']=pd.to_datetime(data_c2q['Time'], unit='s').dt.date\n",
    "     \n",
    "    data_a2q = data_a2q[data_a2q['Source'] != data_a2q['Target']]\n",
    "    data_c2a = data_c2a[data_c2a['Source'] != data_c2a['Target']]\n",
    "    data_c2q = data_c2q[data_c2q['Source'] != data_c2q['Target']]\n",
    "    \n",
    "    \n",
    "    return data_a2q, data_c2a, data_c2q    "
   ]
  },
  {
   "cell_type": "code",
   "execution_count": 15,
   "id": "8eae66e3",
   "metadata": {},
   "outputs": [],
   "source": [
    "data_a2q, data_c2a, data_c2q = prepare_datasets()"
   ]
  },
  {
   "cell_type": "code",
   "execution_count": 17,
   "id": "33210330",
   "metadata": {},
   "outputs": [],
   "source": [
    "time_interval = [dt.strptime('1-1-1970', \"%d-%m-%Y\").date(),dt.strptime('31-12-2022', \"%d-%m-%Y\").date()]"
   ]
  },
  {
   "cell_type": "code",
   "execution_count": 9,
   "id": "8b2e69f7",
   "metadata": {},
   "outputs": [],
   "source": [
    "def create_graph(dataset,weight, time_interval):\n",
    "    \n",
    "    source = dataset['Source'].values\n",
    "    target = dataset['Target'].values\n",
    "    time = dataset['Time'].values\n",
    "    \n",
    "    start = time_interval[0]\n",
    "    end = time_interval[1]\n",
    "    G = nx.DiGraph()    \n",
    "    \n",
    "    for i in tqdm(range(len(source))):\n",
    "        if start <= time[i] <= end:\n",
    "            if source[i] != target[i]:#check if edge is not self referencing\n",
    "                if (source[i], target[i]) in G.edges():\n",
    "                    G[source[i]][ target[i]]['weight'] += weight\n",
    "                else:\n",
    "                    G.add_edge(source[i],target[i], weight = weight)   \n",
    "    return G  "
   ]
  },
  {
   "cell_type": "code",
   "execution_count": 18,
   "id": "40913af0",
   "metadata": {},
   "outputs": [],
   "source": [
    "def merge_graph(time_interval):   \n",
    "    \n",
    "    G_a2q = create_graph(data_a2q, weight = 2, time_interval = time_interval)\n",
    "    G_c2a = create_graph(data_c2a, weight = 1, time_interval = time_interval)\n",
    "    G_c2q = create_graph(data_c2q, weight = 1, time_interval = time_interval)    \n",
    "    \n",
    "    #create a copy of first graph\n",
    "    G = G_a2q.copy()\n",
    "    \n",
    "    #add edges of second graph\n",
    "    for edge in G_c2a.edges:\n",
    "        if (edge[0], edge[1]) in G.edges():\n",
    "            G[edge[0]][edge[1]]['weight'] +=1\n",
    "        else:\n",
    "            G.add_edge(edge[0],edge[1], weight = 1)\n",
    "            \n",
    "    #add edges of third graph\n",
    "    for edge in G_c2a.edges:\n",
    "        if (edge[0], edge[1]) in G.edges():\n",
    "            G[edge[0]][edge[1]]['weight'] +=1\n",
    "        else:\n",
    "            G.add_edge(edge[0],edge[1], weight = 1)\n",
    "        \n",
    "    return G\n",
    "    "
   ]
  },
  {
   "cell_type": "code",
   "execution_count": 10,
   "id": "203cf1d1",
   "metadata": {},
   "outputs": [
    {
     "name": "stderr",
     "output_type": "stream",
     "text": [
      "100%|██████████████████████████████████████████████████████████████████| 17823525/17823525 [01:48<00:00, 163529.02it/s]\n",
      "100%|██████████████████████████████████████████████████████████████████| 25405374/25405374 [01:54<00:00, 222520.87it/s]\n",
      "  8%|█████▏                                                             | 1581994/20268151 [01:26<01:16, 243842.04it/s]Exception ignored in: <function tqdm.__del__ at 0x000001FD8BD76310>\n",
      "Traceback (most recent call last):\n",
      "  File \"C:\\Users\\Luca Romani\\anaconda3\\lib\\site-packages\\tqdm\\std.py\", line 1145, in __del__\n",
      "    self.close()\n",
      "KeyboardInterrupt: \n",
      "100%|███████████████████████████████████████████████████████████████████| 20268151/20268151 [06:15<00:00, 53989.08it/s]\n"
     ]
    }
   ],
   "source": [
    "G_a2q = create_graph(data_a2q, weight = 2, time_interval = time_interval)\n",
    "G_c2a = create_graph(data_c2a, weight = 1, time_interval = time_interval)\n",
    "G_c2q = create_graph(data_c2q, weight = 1, time_interval = time_interval)"
   ]
  },
  {
   "cell_type": "code",
   "execution_count": null,
   "id": "e8511989",
   "metadata": {},
   "outputs": [],
   "source": [
    "nx.write_gexf(G_a2q,'data/a2q_graph.gexf')"
   ]
  },
  {
   "cell_type": "code",
   "execution_count": null,
   "id": "fcd3bd67",
   "metadata": {},
   "outputs": [],
   "source": []
  },
  {
   "cell_type": "markdown",
   "id": "0a210e41",
   "metadata": {},
   "source": [
    "## Functionality 1"
   ]
  },
  {
   "cell_type": "code",
   "execution_count": null,
   "id": "023bd684",
   "metadata": {},
   "outputs": [],
   "source": [
    "def graph_info(dataset):\n",
    "    \n",
    "    \n",
    "    \n",
    "    \n",
    "    "
   ]
  },
  {
   "cell_type": "code",
   "execution_count": null,
   "id": "407e2210",
   "metadata": {},
   "outputs": [],
   "source": []
  },
  {
   "cell_type": "markdown",
   "id": "8d0ffc62",
   "metadata": {},
   "source": [
    "### Functionality 3"
   ]
  },
  {
   "cell_type": "code",
   "execution_count": null,
   "id": "42de62f4",
   "metadata": {},
   "outputs": [],
   "source": [
    "def shortest_ordered_route(time_interval, sequence_of_users):\n",
    "    G = merge_graph(time_interval)\n",
    "    for i in range(len(sequence_of_users)-1):\n",
    "        dijkstra_algo( G,sequence_of_users[i], sequence_of_users[i+1])\n",
    "    \n",
    "def dijkstra_algo(G, start, end):\n",
    "    \n",
    "    \n",
    "    \n",
    "    \n",
    "    "
   ]
  },
  {
   "cell_type": "code",
   "execution_count": null,
   "id": "d4a2625c",
   "metadata": {},
   "outputs": [],
   "source": []
  },
  {
   "cell_type": "code",
   "execution_count": null,
   "id": "58d7e6b4",
   "metadata": {},
   "outputs": [],
   "source": []
  }
 ],
 "metadata": {
  "kernelspec": {
   "display_name": "Python 3",
   "language": "python",
   "name": "python3"
  },
  "language_info": {
   "codemirror_mode": {
    "name": "ipython",
    "version": 3
   },
   "file_extension": ".py",
   "mimetype": "text/x-python",
   "name": "python",
   "nbconvert_exporter": "python",
   "pygments_lexer": "ipython3",
   "version": "3.8.8"
  }
 },
 "nbformat": 4,
 "nbformat_minor": 5
}
